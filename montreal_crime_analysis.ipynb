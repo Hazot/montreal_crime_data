{
 "cells": [
  {
   "cell_type": "code",
   "execution_count": null,
   "id": "413f7a8a",
   "metadata": {},
   "outputs": [],
   "source": [
    "# This Python 3 environment comes with many helpful analytics libraries installed\n",
    "# It is defined by the kaggle/python Docker image: https://github.com/kaggle/docker-python\n",
    "# For example, here's several helpful packages to load\n",
    "\n",
    "import numpy as np # linear algebra\n",
    "import pandas as pd # data processing, CSV file I/O (e.g. pd.read_csv)\n",
    "import matplotlib.pyplot as plt\n",
    "import seaborn as sns\n",
    "import plotly.express as px\n",
    "import plotly.graph_objects as go"
   ]
  },
  {
   "cell_type": "code",
   "execution_count": null,
   "id": "68d3b31a",
   "metadata": {},
   "outputs": [],
   "source": [
    "# from wordcloud import WordCloud\n",
    "\n",
    "# # Input data files are available in the read-only \"../input/\" directory\n",
    "# # For example, running this (by clicking run or pressing Shift+Enter) will list all files under the input directory\n",
    "\n",
    "# import os\n",
    "# for dirname, _, filenames in os.walk('/kaggle/input'):\n",
    "#     for filename in filenames:\n",
    "#         print(os.path.join(dirname, filename))\n",
    "\n",
    "# # You can write up to 20GB to the current directory (/kaggle/working/) that gets preserved as output when you create a version using \"Save & Run All\" \n",
    "# # You can also write temporary files to /kaggle/temp/, but they won't be saved outside of the current session"
   ]
  },
  {
   "cell_type": "code",
   "execution_count": null,
   "id": "e0ef783c",
   "metadata": {},
   "outputs": [],
   "source": [
    "data = pd.read_csv(\"Montreal Crime Data.csv\", encoding='latin1')"
   ]
  },
  {
   "cell_type": "code",
   "execution_count": null,
   "id": "be4c69ff",
   "metadata": {},
   "outputs": [],
   "source": [
    "data.head()"
   ]
  },
  {
   "cell_type": "markdown",
   "id": "e25bca07",
   "metadata": {},
   "source": [
    "# Preprocessing"
   ]
  },
  {
   "cell_type": "markdown",
   "id": "c5bf0f42",
   "metadata": {},
   "source": [
    "#### Removing unwanted column"
   ]
  },
  {
   "cell_type": "code",
   "execution_count": null,
   "id": "2b85874b",
   "metadata": {},
   "outputs": [],
   "source": [
    "data.columns"
   ]
  },
  {
   "cell_type": "markdown",
   "id": "cfe7e381",
   "metadata": {},
   "source": [
    "#### Meta information of data"
   ]
  },
  {
   "cell_type": "code",
   "execution_count": null,
   "id": "eca52058",
   "metadata": {},
   "outputs": [],
   "source": [
    "print(f\"Shape of data is: {data.shape}\")"
   ]
  },
  {
   "cell_type": "code",
   "execution_count": null,
   "id": "c2053c8d",
   "metadata": {},
   "outputs": [],
   "source": [
    "pd.DataFrame(data.dtypes, columns=['Datatype']).rename_axis('Columns')"
   ]
  },
  {
   "cell_type": "markdown",
   "id": "02781502",
   "metadata": {},
   "source": [
    "## Data cleaning"
   ]
  },
  {
   "cell_type": "markdown",
   "id": "90602ec7",
   "metadata": {},
   "source": [
    "#### Converting date feature to datatime format"
   ]
  },
  {
   "cell_type": "code",
   "execution_count": null,
   "id": "0e0f9a1e",
   "metadata": {},
   "outputs": [],
   "source": [
    "data['date'] = pd.to_datetime(data['date'])"
   ]
  },
  {
   "cell_type": "code",
   "execution_count": null,
   "id": "1e1b6777",
   "metadata": {},
   "outputs": [],
   "source": [
    "datatypes = pd.DataFrame(data.dtypes, columns=['Datatype']).rename_axis('Columns')\n",
    "datatypes"
   ]
  },
  {
   "cell_type": "markdown",
   "id": "81553cd4",
   "metadata": {},
   "source": [
    "#### Checking for NaN values"
   ]
  },
  {
   "cell_type": "code",
   "execution_count": null,
   "id": "1a9e208d",
   "metadata": {},
   "outputs": [],
   "source": [
    "pd.DataFrame(data.isnull().sum(), columns=['Nb of missing values']).rename_axis('Feature')"
   ]
  },
  {
   "cell_type": "markdown",
   "id": "65f48f06",
   "metadata": {},
   "source": [
    "## Visualization"
   ]
  },
  {
   "cell_type": "markdown",
   "id": "f20b274c",
   "metadata": {},
   "source": [
    "#### Top 10 Cities where most Crime are reported"
   ]
  },
  {
   "cell_type": "code",
   "execution_count": null,
   "id": "b0fee831",
   "metadata": {},
   "outputs": [],
   "source": []
  }
 ],
 "metadata": {
  "kernelspec": {
   "display_name": "Python 3 (ipykernel)",
   "language": "python",
   "name": "python3"
  },
  "language_info": {
   "codemirror_mode": {
    "name": "ipython",
    "version": 3
   },
   "file_extension": ".py",
   "mimetype": "text/x-python",
   "name": "python",
   "nbconvert_exporter": "python",
   "pygments_lexer": "ipython3",
   "version": "3.9.5"
  }
 },
 "nbformat": 4,
 "nbformat_minor": 5
}
