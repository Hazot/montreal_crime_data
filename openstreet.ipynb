{
 "cells": [
  {
   "cell_type": "code",
   "execution_count": 1,
   "metadata": {},
   "outputs": [
    {
     "ename": "SyntaxError",
     "evalue": "invalid syntax (<ipython-input-1-3ebc39cf01cc>, line 24)",
     "output_type": "error",
     "traceback": [
      "\u001b[1;36m  File \u001b[1;32m\"<ipython-input-1-3ebc39cf01cc>\"\u001b[1;36m, line \u001b[1;32m24\u001b[0m\n\u001b[1;33m    print \"trying to download osm data from \"+str(left),str(bottom),str(right),str(top)+\" with highways of categories\"+highway_cat\u001b[0m\n\u001b[1;37m                                            ^\u001b[0m\n\u001b[1;31mSyntaxError\u001b[0m\u001b[1;31m:\u001b[0m invalid syntax\n"
     ]
    }
   ],
   "source": [
    "import xml.sax\n",
    "import copy\n",
    "import networkx\n",
    "\n",
    "#highway_cat = 'motorway|trunk|primary|secondary|tertiary|road|residential|service|motorway_link|trunk_link|primary_link|secondary_link|teriary_link'\n",
    "\n",
    "def download_osm(left,bottom,right,top,highway_cat):\n",
    "    \"\"\"\n",
    "    Downloads OSM street (only highway-tagged) Data using a BBOX, \n",
    "    plus a specification of highway tag values to use\n",
    "    Parameters\n",
    "    ----------\n",
    "    left,bottom,right,top : BBOX of left,bottom,right,top coordinates in WGS84\n",
    "    highway_cat : highway tag values to use, separated by pipes (|), for instance 'motorway|trunk|primary'\n",
    "    Returns\n",
    "    ----------\n",
    "    stream object with osm xml data\n",
    "    \"\"\"\n",
    "\n",
    "    #Return a filehandle to the downloaded data.\"\"\"\n",
    "    from urllib import urlopen\n",
    "    #fp = urlopen( \"http://api.openstreetmap.org/api/0.6/map?bbox=%f,%f,%f,%f\"%(left,bottom,right,top) )\n",
    "    #fp = urlopen( \"http://www.overpass-api.de/api/xapi?way[highway=*][bbox=%f,%f,%f,%f]\"%(left,bottom,right,top) )\n",
    "    print \"trying to download osm data from \"+str(left),str(bottom),str(right),str(top)+\" with highways of categories\"+highway_cat\n",
    "    try:    \n",
    "        print \"downloading osm data from \"+str(left),str(bottom),str(right),str(top)+\" with highways of categories\"+highway_cat\n",
    "        fp = urlopen( \"http://www.overpass-api.de/api/xapi?way[highway=%s][bbox=%f,%f,%f,%f]\"%(highway_cat,left,bottom,right,top) )\n",
    "        #slooww only ways,and in ways only \"highways\" (i.e. roads)\n",
    "        #fp = urlopen( \"http://open.mapquestapi.com/xapi/api/0.6/way[highway=*][bbox=%f,%f,%f,%f]\"%(left,bottom,right,top) )\n",
    "        return fp\n",
    "    except:\n",
    "        print \"osm data download unsuccessful\"\n",
    "\n",
    "def read_osm(filename_or_stream, only_roads=True):\n",
    "    \"\"\"Read graph in OSM format from file specified by name or by stream object.\n",
    "    Parameters\n",
    "    ----------\n",
    "    filename_or_stream : filename or stream object\n",
    "    Returns\n",
    "    -------\n",
    "    G : Graph\n",
    "    Examples\n",
    "    --------\n",
    "    >>> G=nx.read_osm(nx.download_osm(-122.33,47.60,-122.31,47.61))\n",
    "    >>> plot([G.node[n]['data'].lat for n in G], [G.node[n]['data'].lon for n in G], ',')\n",
    "    \"\"\"\n",
    "    osm = OSM(filename_or_stream)\n",
    "    G = networkx.DiGraph()\n",
    " \n",
    "    for w in osm.ways.itervalues():\n",
    "        if only_roads and 'highway' not in w.tags:\n",
    "            continue\n",
    "        G.add_path(w.nds, id=w.id, highway = w.tags['highway'], street= w.tags['name'])#{str(k): type(v) for k,v in w.tags.items()})\n",
    "        \n",
    "        if 'oneway' not in w.tags and  w.tags['highway'] != 'motorway':\n",
    "            G.add_path(reversed(w.nds), id= '-' + str(w.id), highway = w.tags['highway'], street= w.tags['name'])\n",
    "\n",
    "        elif w.tags['oneway'] != 'yes' and w.tags['oneway'] != '-1' and  w.tags['highway'] != 'motorway':\n",
    "            G.add_path(reversed(w.nds), id=w.id, highway = w.tags['highway'], street= w.tags['name'])\n",
    "\n",
    "        \n",
    "    for n_id in G.nodes_iter():\n",
    "        n = osm.nodes[n_id]\n",
    "        G.node[n_id] = dict(lon=n.lon,lat=n.lat)\n",
    "    return G\n",
    "        \n",
    "    \n",
    "class Node:\n",
    "    def __init__(self, id, lon, lat):\n",
    "        self.id = id\n",
    "        self.lon = lon\n",
    "        self.lat = lat\n",
    "        self.tags = {}\n",
    "        \n",
    "class Way:\n",
    "    def __init__(self, id, osm):\n",
    "        self.osm = osm\n",
    "        self.id = id\n",
    "        self.nds = []\n",
    "        self.tags = {}\n",
    "        \n",
    "    def split(self, dividers):\n",
    "        # slice the node-array using this nifty recursive function\n",
    "        def slice_array(ar, dividers):\n",
    "            for i in range(1,len(ar)-1):\n",
    "                if dividers[ar[i]]>1:\n",
    "                    #print \"slice at %s\"%ar[i]\n",
    "                    left = ar[:i+1]\n",
    "                    right = ar[i:]\n",
    "                    \n",
    "                    rightsliced = slice_array(right, dividers)\n",
    "                    \n",
    "                    return [left]+rightsliced\n",
    "            return [ar]\n",
    "            \n",
    "\n",
    "\n",
    "        slices = slice_array(self.nds, dividers)\n",
    "        \n",
    "        # create a way object for each node-array slice\n",
    "        ret = []\n",
    "        i=0\n",
    "        for slice in slices:\n",
    "            littleway = copy.copy( self )\n",
    "            littleway.id += \"-%d\"%i\n",
    "            littleway.nds = slice\n",
    "            ret.append( littleway )\n",
    "            i += 1\n",
    "            \n",
    "        return ret\n",
    "        \n",
    "        \n",
    " \n",
    "class OSM:\n",
    "    def __init__(self, filename_or_stream):\n",
    "        \"\"\" File can be either a filename or stream/file object.\"\"\"\n",
    "        nodes = {}\n",
    "        ways = {}\n",
    "        \n",
    "        superself = self\n",
    "        \n",
    "        class OSMHandler(xml.sax.ContentHandler):\n",
    "            @classmethod\n",
    "            def setDocumentLocator(self,loc):\n",
    "                pass\n",
    "            \n",
    "            @classmethod\n",
    "            def startDocument(self):\n",
    "                pass\n",
    "                \n",
    "            @classmethod\n",
    "            def endDocument(self):\n",
    "                pass\n",
    "                \n",
    "            @classmethod\n",
    "            def startElement(self, name, attrs):\n",
    "                if name=='node':\n",
    "                    self.currElem = Node(attrs['id'], float(attrs['lon']), float(attrs['lat']))\n",
    "                elif name=='way':\n",
    "                    self.currElem = Way(attrs['id'], superself)\n",
    "                elif name=='tag':\n",
    "                    self.currElem.tags[attrs['k']] = attrs['v']\n",
    "                elif name=='nd':\n",
    "                    self.currElem.nds.append( attrs['ref'] )\n",
    "                \n",
    "            @classmethod\n",
    "            def endElement(self,name):\n",
    "                if name=='node':\n",
    "                    nodes[self.currElem.id] = self.currElem\n",
    "                elif name=='way':\n",
    "                    ways[self.currElem.id] = self.currElem\n",
    "                \n",
    "            @classmethod\n",
    "            def characters(self, chars):\n",
    "                pass\n",
    " \n",
    "        xml.sax.parse(filename_or_stream, OSMHandler)\n",
    "        \n",
    "        self.nodes = nodes\n",
    "        self.ways = ways\n",
    "        #\"\"\"   \n",
    "        #count times each node is used\n",
    "        node_histogram = dict.fromkeys( self.nodes.keys(), 0 )\n",
    "        for way in self.ways.values():\n",
    "            if len(way.nds) < 2:       #if a way has only one node, delete it out of the osm collection\n",
    "                del self.ways[way.id]\n",
    "            else:\n",
    "                for node in way.nds:\n",
    "                    node_histogram[node] += 1\n",
    "        \n",
    "        #use that histogram to split all ways, replacing the member set of ways\n",
    "        new_ways = {}\n",
    "        for id, way in self.ways.iteritems():\n",
    "            split_ways = way.split(node_histogram)\n",
    "            for split_way in split_ways:\n",
    "                new_ways[split_way.id] = split_way\n",
    "        self.ways = new_ways\n",
    "        #\"\"\""
   ]
  },
  {
   "cell_type": "code",
   "execution_count": 2,
   "metadata": {},
   "outputs": [
    {
     "ename": "SyntaxError",
     "evalue": "invalid syntax (<ipython-input-2-1b4796a72ebf>, line 33)",
     "output_type": "error",
     "traceback": [
      "\u001b[1;36m  File \u001b[1;32m\"<ipython-input-2-1b4796a72ebf>\"\u001b[1;36m, line \u001b[1;32m33\u001b[0m\n\u001b[1;33m    print \"trying to download osm data from \"+str(left),str(bottom),str(right),str(top)+\" with highways of categories\"+highway_cat\u001b[0m\n\u001b[1;37m                                            ^\u001b[0m\n\u001b[1;31mSyntaxError\u001b[0m\u001b[1;31m:\u001b[0m invalid syntax\n"
     ]
    }
   ],
   "source": [
    "\"\"\"\n",
    "Read graphs in Open Street Maps osm format\n",
    "Based on osm.py from brianw's osmgeocode\n",
    "http://github.com/brianw/osmgeocode, which is based on osm.py from\n",
    "comes from Graphserver:\n",
    "http://github.com/bmander/graphserver/tree/master and is copyright (c)\n",
    "2007, Brandon Martin-Anderson under the BSD License\n",
    "\"\"\"\n",
    "\n",
    "import xml.sax\n",
    "import copy\n",
    "import networkx\n",
    "\n",
    "#highway_cat = 'motorway|trunk|primary|secondary|tertiary|road|residential|service|motorway_link|trunk_link|primary_link|secondary_link|teriary_link'\n",
    "\n",
    "def download_osm(left,bottom,right,top,highway_cat):\n",
    "    \"\"\"\n",
    "    Downloads OSM street (only highway-tagged) Data using a BBOX, \n",
    "    plus a specification of highway tag values to use\n",
    "    Parameters\n",
    "    ----------\n",
    "    left,bottom,right,top : BBOX of left,bottom,right,top coordinates in WGS84\n",
    "    highway_cat : highway tag values to use, separated by pipes (|), for instance 'motorway|trunk|primary'\n",
    "    Returns\n",
    "    ----------\n",
    "    stream object with osm xml data\n",
    "    \"\"\"\n",
    "\n",
    "    #Return a filehandle to the downloaded data.\"\"\"\n",
    "    from urllib import urlopen\n",
    "    #fp = urlopen( \"http://api.openstreetmap.org/api/0.6/map?bbox=%f,%f,%f,%f\"%(left,bottom,right,top) )\n",
    "    #fp = urlopen( \"http://www.overpass-api.de/api/xapi?way[highway=*][bbox=%f,%f,%f,%f]\"%(left,bottom,right,top) )\n",
    "    print \"trying to download osm data from \"+str(left),str(bottom),str(right),str(top)+\" with highways of categories\"+highway_cat\n",
    "    try:    \n",
    "        print \"downloading osm data from \"+str(left),str(bottom),str(right),str(top)+\" with highways of categories\"+highway_cat\n",
    "        fp = urlopen( \"http://www.overpass-api.de/api/xapi?way[highway=%s][bbox=%f,%f,%f,%f]\"%(highway_cat,left,bottom,right,top) )\n",
    "        #slooww only ways,and in ways only \"highways\" (i.e. roads)\n",
    "        #fp = urlopen( \"http://open.mapquestapi.com/xapi/api/0.6/way[highway=*][bbox=%f,%f,%f,%f]\"%(left,bottom,right,top) )\n",
    "        return fp\n",
    "    except:\n",
    "        print \"osm data download unsuccessful\"\n",
    "\n",
    "def read_osm(filename_or_stream, only_roads=True):\n",
    "    \"\"\"Read graph in OSM format from file specified by name or by stream object.\n",
    "    Parameters\n",
    "    ----------\n",
    "    filename_or_stream : filename or stream object\n",
    "    Returns\n",
    "    -------\n",
    "    G : Graph\n",
    "    Examples\n",
    "    --------\n",
    "    >>> G=nx.read_osm(nx.download_osm(-122.33,47.60,-122.31,47.61))\n",
    "    >>> plot([G.node[n]['data'].lat for n in G], [G.node[n]['data'].lon for n in G], ',')\n",
    "    \"\"\"\n",
    "    osm = OSM(filename_or_stream)\n",
    "    G = networkx.DiGraph()\n",
    " \n",
    "    for w in osm.ways.itervalues():\n",
    "        if only_roads and 'highway' not in w.tags:\n",
    "            continue\n",
    "        G.add_path(w.nds, id=w.id, highway = w.tags['highway'], street= w.tags['name'])#{str(k): type(v) for k,v in w.tags.items()})\n",
    "        \n",
    "        if 'oneway' not in w.tags and  w.tags['highway'] != 'motorway':\n",
    "            G.add_path(reversed(w.nds), id= '-' + str(w.id), highway = w.tags['highway'], street= w.tags['name'])\n",
    "\n",
    "        elif w.tags['oneway'] != 'yes' and w.tags['oneway'] != '-1' and  w.tags['highway'] != 'motorway':\n",
    "            G.add_path(reversed(w.nds), id=w.id, highway = w.tags['highway'], street= w.tags['name'])\n",
    "\n",
    "        \n",
    "    for n_id in G.nodes_iter():\n",
    "        n = osm.nodes[n_id]\n",
    "        G.node[n_id] = dict(lon=n.lon,lat=n.lat)\n",
    "    return G\n",
    "        \n",
    "    \n",
    "class Node:\n",
    "    def __init__(self, id, lon, lat):\n",
    "        self.id = id\n",
    "        self.lon = lon\n",
    "        self.lat = lat\n",
    "        self.tags = {}\n",
    "        \n",
    "class Way:\n",
    "    def __init__(self, id, osm):\n",
    "        self.osm = osm\n",
    "        self.id = id\n",
    "        self.nds = []\n",
    "        self.tags = {}\n",
    "        \n",
    "    def split(self, dividers):\n",
    "        # slice the node-array using this nifty recursive function\n",
    "        def slice_array(ar, dividers):\n",
    "            for i in range(1,len(ar)-1):\n",
    "                if dividers[ar[i]]>1:\n",
    "                    #print \"slice at %s\"%ar[i]\n",
    "                    left = ar[:i+1]\n",
    "                    right = ar[i:]\n",
    "                    \n",
    "                    rightsliced = slice_array(right, dividers)\n",
    "                    \n",
    "                    return [left]+rightsliced\n",
    "            return [ar]\n",
    "            \n",
    "\n",
    "\n",
    "        slices = slice_array(self.nds, dividers)\n",
    "        \n",
    "        # create a way object for each node-array slice\n",
    "        ret = []\n",
    "        i=0\n",
    "        for slice in slices:\n",
    "            littleway = copy.copy( self )\n",
    "            littleway.id += \"-%d\"%i\n",
    "            littleway.nds = slice\n",
    "            ret.append( littleway )\n",
    "            i += 1\n",
    "            \n",
    "        return ret\n",
    "        \n",
    "        \n",
    " \n",
    "class OSM:\n",
    "    def __init__(self, filename_or_stream):\n",
    "        \"\"\" File can be either a filename or stream/file object.\"\"\"\n",
    "        nodes = {}\n",
    "        ways = {}\n",
    "        \n",
    "        superself = self\n",
    "        \n",
    "        class OSMHandler(xml.sax.ContentHandler):\n",
    "            @classmethod\n",
    "            def setDocumentLocator(self,loc):\n",
    "                pass\n",
    "            \n",
    "            @classmethod\n",
    "            def startDocument(self):\n",
    "                pass\n",
    "                \n",
    "            @classmethod\n",
    "            def endDocument(self):\n",
    "                pass\n",
    "                \n",
    "            @classmethod\n",
    "            def startElement(self, name, attrs):\n",
    "                if name=='node':\n",
    "                    self.currElem = Node(attrs['id'], float(attrs['lon']), float(attrs['lat']))\n",
    "                elif name=='way':\n",
    "                    self.currElem = Way(attrs['id'], superself)\n",
    "                elif name=='tag':\n",
    "                    self.currElem.tags[attrs['k']] = attrs['v']\n",
    "                elif name=='nd':\n",
    "                    self.currElem.nds.append( attrs['ref'] )\n",
    "                \n",
    "            @classmethod\n",
    "            def endElement(self,name):\n",
    "                if name=='node':\n",
    "                    nodes[self.currElem.id] = self.currElem\n",
    "                elif name=='way':\n",
    "                    ways[self.currElem.id] = self.currElem\n",
    "                \n",
    "            @classmethod\n",
    "            def characters(self, chars):\n",
    "                pass\n",
    " \n",
    "        xml.sax.parse(filename_or_stream, OSMHandler)\n",
    "        \n",
    "        self.nodes = nodes\n",
    "        self.ways = ways\n",
    "        #\"\"\"   \n",
    "        #count times each node is used\n",
    "        node_histogram = dict.fromkeys( self.nodes.keys(), 0 )\n",
    "        for way in self.ways.values():\n",
    "            if len(way.nds) < 2:       #if a way has only one node, delete it out of the osm collection\n",
    "                del self.ways[way.id]\n",
    "            else:\n",
    "                for node in way.nds:\n",
    "                    node_histogram[node] += 1\n",
    "        \n",
    "        #use that histogram to split all ways, replacing the member set of ways\n",
    "        new_ways = {}\n",
    "        for id, way in self.ways.iteritems():\n",
    "            split_ways = way.split(node_histogram)\n",
    "            for split_way in split_ways:\n",
    "                new_ways[split_way.id] = split_way\n",
    "        self.ways = new_ways\n",
    "        #\"\"\""
   ]
  },
  {
   "cell_type": "code",
   "execution_count": 1,
   "metadata": {},
   "outputs": [
    {
     "name": "stderr",
     "output_type": "stream",
     "text": [
      "C:\\Users\\HP SPETRE X360\\Anaconda2\\lib\\site-packages\\sklearn\\linear_model\\least_angle.py:30: DeprecationWarning: `np.float` is a deprecated alias for the builtin `float`. To silence this warning, use `float` by itself. Doing this will not modify any behavior and is safe. If you specifically wanted the numpy scalar type, use `np.float64` here.\n",
      "Deprecated in NumPy 1.20; for more details and guidance: https://numpy.org/devdocs/release/1.20.0-notes.html#deprecations\n",
      "  method='lar', copy_X=True, eps=np.finfo(np.float).eps,\n",
      "C:\\Users\\HP SPETRE X360\\Anaconda2\\lib\\site-packages\\sklearn\\linear_model\\least_angle.py:167: DeprecationWarning: `np.float` is a deprecated alias for the builtin `float`. To silence this warning, use `float` by itself. Doing this will not modify any behavior and is safe. If you specifically wanted the numpy scalar type, use `np.float64` here.\n",
      "Deprecated in NumPy 1.20; for more details and guidance: https://numpy.org/devdocs/release/1.20.0-notes.html#deprecations\n",
      "  method='lar', copy_X=True, eps=np.finfo(np.float).eps,\n",
      "C:\\Users\\HP SPETRE X360\\Anaconda2\\lib\\site-packages\\sklearn\\linear_model\\least_angle.py:284: DeprecationWarning: `np.float` is a deprecated alias for the builtin `float`. To silence this warning, use `float` by itself. Doing this will not modify any behavior and is safe. If you specifically wanted the numpy scalar type, use `np.float64` here.\n",
      "Deprecated in NumPy 1.20; for more details and guidance: https://numpy.org/devdocs/release/1.20.0-notes.html#deprecations\n",
      "  eps=np.finfo(np.float).eps, copy_Gram=True, verbose=0,\n",
      "C:\\Users\\HP SPETRE X360\\Anaconda2\\lib\\site-packages\\sklearn\\linear_model\\least_angle.py:862: DeprecationWarning: `np.float` is a deprecated alias for the builtin `float`. To silence this warning, use `float` by itself. Doing this will not modify any behavior and is safe. If you specifically wanted the numpy scalar type, use `np.float64` here.\n",
      "Deprecated in NumPy 1.20; for more details and guidance: https://numpy.org/devdocs/release/1.20.0-notes.html#deprecations\n",
      "  eps=np.finfo(np.float).eps, copy_X=True, fit_path=True,\n",
      "C:\\Users\\HP SPETRE X360\\Anaconda2\\lib\\site-packages\\sklearn\\linear_model\\least_angle.py:1101: DeprecationWarning: `np.float` is a deprecated alias for the builtin `float`. To silence this warning, use `float` by itself. Doing this will not modify any behavior and is safe. If you specifically wanted the numpy scalar type, use `np.float64` here.\n",
      "Deprecated in NumPy 1.20; for more details and guidance: https://numpy.org/devdocs/release/1.20.0-notes.html#deprecations\n",
      "  eps=np.finfo(np.float).eps, copy_X=True, fit_path=True,\n",
      "C:\\Users\\HP SPETRE X360\\Anaconda2\\lib\\site-packages\\sklearn\\linear_model\\least_angle.py:1127: DeprecationWarning: `np.float` is a deprecated alias for the builtin `float`. To silence this warning, use `float` by itself. Doing this will not modify any behavior and is safe. If you specifically wanted the numpy scalar type, use `np.float64` here.\n",
      "Deprecated in NumPy 1.20; for more details and guidance: https://numpy.org/devdocs/release/1.20.0-notes.html#deprecations\n",
      "  eps=np.finfo(np.float).eps, positive=False):\n",
      "C:\\Users\\HP SPETRE X360\\Anaconda2\\lib\\site-packages\\sklearn\\linear_model\\least_angle.py:1362: DeprecationWarning: `np.float` is a deprecated alias for the builtin `float`. To silence this warning, use `float` by itself. Doing this will not modify any behavior and is safe. If you specifically wanted the numpy scalar type, use `np.float64` here.\n",
      "Deprecated in NumPy 1.20; for more details and guidance: https://numpy.org/devdocs/release/1.20.0-notes.html#deprecations\n",
      "  max_n_alphas=1000, n_jobs=None, eps=np.finfo(np.float).eps,\n",
      "C:\\Users\\HP SPETRE X360\\Anaconda2\\lib\\site-packages\\sklearn\\linear_model\\least_angle.py:1602: DeprecationWarning: `np.float` is a deprecated alias for the builtin `float`. To silence this warning, use `float` by itself. Doing this will not modify any behavior and is safe. If you specifically wanted the numpy scalar type, use `np.float64` here.\n",
      "Deprecated in NumPy 1.20; for more details and guidance: https://numpy.org/devdocs/release/1.20.0-notes.html#deprecations\n",
      "  max_n_alphas=1000, n_jobs=None, eps=np.finfo(np.float).eps,\n",
      "C:\\Users\\HP SPETRE X360\\Anaconda2\\lib\\site-packages\\sklearn\\linear_model\\least_angle.py:1738: DeprecationWarning: `np.float` is a deprecated alias for the builtin `float`. To silence this warning, use `float` by itself. Doing this will not modify any behavior and is safe. If you specifically wanted the numpy scalar type, use `np.float64` here.\n",
      "Deprecated in NumPy 1.20; for more details and guidance: https://numpy.org/devdocs/release/1.20.0-notes.html#deprecations\n",
      "  eps=np.finfo(np.float).eps, copy_X=True, positive=False):\n",
      "C:\\Users\\HP SPETRE X360\\Anaconda2\\lib\\site-packages\\sklearn\\decomposition\\online_lda.py:29: DeprecationWarning: `np.float` is a deprecated alias for the builtin `float`. To silence this warning, use `float` by itself. Doing this will not modify any behavior and is safe. If you specifically wanted the numpy scalar type, use `np.float64` here.\n",
      "Deprecated in NumPy 1.20; for more details and guidance: https://numpy.org/devdocs/release/1.20.0-notes.html#deprecations\n",
      "  EPS = np.finfo(np.float).eps\n"
     ]
    }
   ],
   "source": [
    "import osmnx as ox\n",
    "import networkx as nx\n",
    "import plotly.graph_objects as go\n",
    "import numpy as np\n",
    "import pandas as pd\n",
    "import geojson as gj\n",
    "import json"
   ]
  },
  {
   "cell_type": "code",
   "execution_count": 2,
   "metadata": {},
   "outputs": [
    {
     "data": {
      "image/png": "[encoded data removed]",
      "text/plain": [
       "<Figure size 432x288 with 1 Axes>"
      ]
     },
     "metadata": {
      "needs_background": "light"
     },
     "output_type": "display_data"
    }
   ],
   "source": [
    "state = ox.geocode_to_gdf('Quebec, CA')\n",
    "ax = ox.project_gdf(state).plot(fc='gray', ec='none')\n",
    "_ = ax.axis('off')"
   ]
  },
  {
   "cell_type": "code",
   "execution_count": 3,
   "metadata": {},
   "outputs": [
    {
     "data": {
      "image/png": "[encoded data removed]",
      "text/plain": [
       "<Figure size 576x576 with 1 Axes>"
      ]
     },
     "metadata": {},
     "output_type": "display_data"
    },
    {
     "data": {
      "text/plain": [
       "(<Figure size 576x576 with 1 Axes>, <AxesSubplot:>)"
      ]
     },
     "execution_count": 3,
     "metadata": {},
     "output_type": "execute_result"
    }
   ],
   "source": [
    "# Defining the map boundaries \n",
    "north, east, south, west = 45.6923, -73.3736, 45.3874, -73.9730  \n",
    "# Downloading the map as a graph object \n",
    "G = ox.graph_from_bbox(north, south, east, west, network_type = 'drive')  \n",
    "# Plotting the map graph \n",
    "ox.plot_graph(G)"
   ]
  },
  {
   "cell_type": "code",
   "execution_count": 17,
   "metadata": {},
   "outputs": [],
   "source": [
    "def path_finder(solutiondoc):\n",
    "    stations = pd.read_csv('Stations_2019.csv')\n",
    "    fp  = open(solutiondoc)\n",
    "    words= [word.strip() for line in fp.readlines() for word in line.split(',') if word.strip()]\n",
    "    print(words)"
   ]
  },
  {
   "cell_type": "code",
   "execution_count": 18,
   "metadata": {},
   "outputs": [
    {
     "ename": "FileNotFoundError",
     "evalue": "[Errno 2] No such file or directory: 'Stations_2019.csv'",
     "output_type": "error",
     "traceback": [
      "\u001b[1;31m---------------------------------------------------------------------------\u001b[0m",
      "\u001b[1;31mFileNotFoundError\u001b[0m                         Traceback (most recent call last)",
      "\u001b[1;32m<ipython-input-18-5a06a159b662>\u001b[0m in \u001b[0;36m<module>\u001b[1;34m\u001b[0m\n\u001b[1;32m----> 1\u001b[1;33m \u001b[0mpath_finder\u001b[0m\u001b[1;33m(\u001b[0m\u001b[1;34m'tester_path.txt'\u001b[0m\u001b[1;33m)\u001b[0m\u001b[1;33m\u001b[0m\u001b[1;33m\u001b[0m\u001b[0m\n\u001b[0m",
      "\u001b[1;32m<ipython-input-17-78beefd61971>\u001b[0m in \u001b[0;36mpath_finder\u001b[1;34m(solutiondoc)\u001b[0m\n\u001b[0;32m      1\u001b[0m \u001b[1;32mdef\u001b[0m \u001b[0mpath_finder\u001b[0m\u001b[1;33m(\u001b[0m\u001b[0msolutiondoc\u001b[0m\u001b[1;33m)\u001b[0m\u001b[1;33m:\u001b[0m\u001b[1;33m\u001b[0m\u001b[1;33m\u001b[0m\u001b[0m\n\u001b[1;32m----> 2\u001b[1;33m     \u001b[0mstations\u001b[0m \u001b[1;33m=\u001b[0m \u001b[0mpd\u001b[0m\u001b[1;33m.\u001b[0m\u001b[0mread_csv\u001b[0m\u001b[1;33m(\u001b[0m\u001b[1;34m'Stations_2019.csv'\u001b[0m\u001b[1;33m)\u001b[0m\u001b[1;33m\u001b[0m\u001b[1;33m\u001b[0m\u001b[0m\n\u001b[0m\u001b[0;32m      3\u001b[0m     \u001b[0mfp\u001b[0m  \u001b[1;33m=\u001b[0m \u001b[0mopen\u001b[0m\u001b[1;33m(\u001b[0m\u001b[0msolutiondoc\u001b[0m\u001b[1;33m)\u001b[0m\u001b[1;33m\u001b[0m\u001b[1;33m\u001b[0m\u001b[0m\n\u001b[0;32m      4\u001b[0m     \u001b[0mwords\u001b[0m\u001b[1;33m=\u001b[0m \u001b[1;33m[\u001b[0m\u001b[0mword\u001b[0m\u001b[1;33m.\u001b[0m\u001b[0mstrip\u001b[0m\u001b[1;33m(\u001b[0m\u001b[1;33m)\u001b[0m \u001b[1;32mfor\u001b[0m \u001b[0mline\u001b[0m \u001b[1;32min\u001b[0m \u001b[0mfp\u001b[0m\u001b[1;33m.\u001b[0m\u001b[0mreadlines\u001b[0m\u001b[1;33m(\u001b[0m\u001b[1;33m)\u001b[0m \u001b[1;32mfor\u001b[0m \u001b[0mword\u001b[0m \u001b[1;32min\u001b[0m \u001b[0mline\u001b[0m\u001b[1;33m.\u001b[0m\u001b[0msplit\u001b[0m\u001b[1;33m(\u001b[0m\u001b[1;34m','\u001b[0m\u001b[1;33m)\u001b[0m \u001b[1;32mif\u001b[0m \u001b[0mword\u001b[0m\u001b[1;33m.\u001b[0m\u001b[0mstrip\u001b[0m\u001b[1;33m(\u001b[0m\u001b[1;33m)\u001b[0m\u001b[1;33m]\u001b[0m\u001b[1;33m\u001b[0m\u001b[1;33m\u001b[0m\u001b[0m\n\u001b[0;32m      5\u001b[0m     \u001b[0mprint\u001b[0m\u001b[1;33m(\u001b[0m\u001b[0mwords\u001b[0m\u001b[1;33m)\u001b[0m\u001b[1;33m\u001b[0m\u001b[1;33m\u001b[0m\u001b[0m\n",
      "\u001b[1;32m~\\AppData\\Roaming\\Python\\Python37\\site-packages\\pandas\\io\\parsers.py\u001b[0m in \u001b[0;36mread_csv\u001b[1;34m(filepath_or_buffer, sep, delimiter, header, names, index_col, usecols, squeeze, prefix, mangle_dupe_cols, dtype, engine, converters, true_values, false_values, skipinitialspace, skiprows, skipfooter, nrows, na_values, keep_default_na, na_filter, verbose, skip_blank_lines, parse_dates, infer_datetime_format, keep_date_col, date_parser, dayfirst, cache_dates, iterator, chunksize, compression, thousands, decimal, lineterminator, quotechar, quoting, doublequote, escapechar, comment, encoding, dialect, error_bad_lines, warn_bad_lines, delim_whitespace, low_memory, memory_map, float_precision, storage_options)\u001b[0m\n\u001b[0;32m    608\u001b[0m     \u001b[0mkwds\u001b[0m\u001b[1;33m.\u001b[0m\u001b[0mupdate\u001b[0m\u001b[1;33m(\u001b[0m\u001b[0mkwds_defaults\u001b[0m\u001b[1;33m)\u001b[0m\u001b[1;33m\u001b[0m\u001b[1;33m\u001b[0m\u001b[0m\n\u001b[0;32m    609\u001b[0m \u001b[1;33m\u001b[0m\u001b[0m\n\u001b[1;32m--> 610\u001b[1;33m     \u001b[1;32mreturn\u001b[0m \u001b[0m_read\u001b[0m\u001b[1;33m(\u001b[0m\u001b[0mfilepath_or_buffer\u001b[0m\u001b[1;33m,\u001b[0m \u001b[0mkwds\u001b[0m\u001b[1;33m)\u001b[0m\u001b[1;33m\u001b[0m\u001b[1;33m\u001b[0m\u001b[0m\n\u001b[0m\u001b[0;32m    611\u001b[0m \u001b[1;33m\u001b[0m\u001b[0m\n\u001b[0;32m    612\u001b[0m \u001b[1;33m\u001b[0m\u001b[0m\n",
      "\u001b[1;32m~\\AppData\\Roaming\\Python\\Python37\\site-packages\\pandas\\io\\parsers.py\u001b[0m in \u001b[0;36m_read\u001b[1;34m(filepath_or_buffer, kwds)\u001b[0m\n\u001b[0;32m    460\u001b[0m \u001b[1;33m\u001b[0m\u001b[0m\n\u001b[0;32m    461\u001b[0m     \u001b[1;31m# Create the parser.\u001b[0m\u001b[1;33m\u001b[0m\u001b[1;33m\u001b[0m\u001b[1;33m\u001b[0m\u001b[0m\n\u001b[1;32m--> 462\u001b[1;33m     \u001b[0mparser\u001b[0m \u001b[1;33m=\u001b[0m \u001b[0mTextFileReader\u001b[0m\u001b[1;33m(\u001b[0m\u001b[0mfilepath_or_buffer\u001b[0m\u001b[1;33m,\u001b[0m \u001b[1;33m**\u001b[0m\u001b[0mkwds\u001b[0m\u001b[1;33m)\u001b[0m\u001b[1;33m\u001b[0m\u001b[1;33m\u001b[0m\u001b[0m\n\u001b[0m\u001b[0;32m    463\u001b[0m \u001b[1;33m\u001b[0m\u001b[0m\n\u001b[0;32m    464\u001b[0m     \u001b[1;32mif\u001b[0m \u001b[0mchunksize\u001b[0m \u001b[1;32mor\u001b[0m \u001b[0miterator\u001b[0m\u001b[1;33m:\u001b[0m\u001b[1;33m\u001b[0m\u001b[1;33m\u001b[0m\u001b[0m\n",
      "\u001b[1;32m~\\AppData\\Roaming\\Python\\Python37\\site-packages\\pandas\\io\\parsers.py\u001b[0m in \u001b[0;36m__init__\u001b[1;34m(self, f, engine, **kwds)\u001b[0m\n\u001b[0;32m    817\u001b[0m             \u001b[0mself\u001b[0m\u001b[1;33m.\u001b[0m\u001b[0moptions\u001b[0m\u001b[1;33m[\u001b[0m\u001b[1;34m\"has_index_names\"\u001b[0m\u001b[1;33m]\u001b[0m \u001b[1;33m=\u001b[0m \u001b[0mkwds\u001b[0m\u001b[1;33m[\u001b[0m\u001b[1;34m\"has_index_names\"\u001b[0m\u001b[1;33m]\u001b[0m\u001b[1;33m\u001b[0m\u001b[1;33m\u001b[0m\u001b[0m\n\u001b[0;32m    818\u001b[0m \u001b[1;33m\u001b[0m\u001b[0m\n\u001b[1;32m--> 819\u001b[1;33m         \u001b[0mself\u001b[0m\u001b[1;33m.\u001b[0m\u001b[0m_engine\u001b[0m \u001b[1;33m=\u001b[0m \u001b[0mself\u001b[0m\u001b[1;33m.\u001b[0m\u001b[0m_make_engine\u001b[0m\u001b[1;33m(\u001b[0m\u001b[0mself\u001b[0m\u001b[1;33m.\u001b[0m\u001b[0mengine\u001b[0m\u001b[1;33m)\u001b[0m\u001b[1;33m\u001b[0m\u001b[1;33m\u001b[0m\u001b[0m\n\u001b[0m\u001b[0;32m    820\u001b[0m \u001b[1;33m\u001b[0m\u001b[0m\n\u001b[0;32m    821\u001b[0m     \u001b[1;32mdef\u001b[0m \u001b[0mclose\u001b[0m\u001b[1;33m(\u001b[0m\u001b[0mself\u001b[0m\u001b[1;33m)\u001b[0m\u001b[1;33m:\u001b[0m\u001b[1;33m\u001b[0m\u001b[1;33m\u001b[0m\u001b[0m\n",
      "\u001b[1;32m~\\AppData\\Roaming\\Python\\Python37\\site-packages\\pandas\\io\\parsers.py\u001b[0m in \u001b[0;36m_make_engine\u001b[1;34m(self, engine)\u001b[0m\n\u001b[0;32m   1048\u001b[0m             )\n\u001b[0;32m   1049\u001b[0m         \u001b[1;31m# error: Too many arguments for \"ParserBase\"\u001b[0m\u001b[1;33m\u001b[0m\u001b[1;33m\u001b[0m\u001b[1;33m\u001b[0m\u001b[0m\n\u001b[1;32m-> 1050\u001b[1;33m         \u001b[1;32mreturn\u001b[0m \u001b[0mmapping\u001b[0m\u001b[1;33m[\u001b[0m\u001b[0mengine\u001b[0m\u001b[1;33m]\u001b[0m\u001b[1;33m(\u001b[0m\u001b[0mself\u001b[0m\u001b[1;33m.\u001b[0m\u001b[0mf\u001b[0m\u001b[1;33m,\u001b[0m \u001b[1;33m**\u001b[0m\u001b[0mself\u001b[0m\u001b[1;33m.\u001b[0m\u001b[0moptions\u001b[0m\u001b[1;33m)\u001b[0m  \u001b[1;31m# type: ignore[call-arg]\u001b[0m\u001b[1;33m\u001b[0m\u001b[1;33m\u001b[0m\u001b[0m\n\u001b[0m\u001b[0;32m   1051\u001b[0m \u001b[1;33m\u001b[0m\u001b[0m\n\u001b[0;32m   1052\u001b[0m     \u001b[1;32mdef\u001b[0m \u001b[0m_failover_to_python\u001b[0m\u001b[1;33m(\u001b[0m\u001b[0mself\u001b[0m\u001b[1;33m)\u001b[0m\u001b[1;33m:\u001b[0m\u001b[1;33m\u001b[0m\u001b[1;33m\u001b[0m\u001b[0m\n",
      "\u001b[1;32m~\\AppData\\Roaming\\Python\\Python37\\site-packages\\pandas\\io\\parsers.py\u001b[0m in \u001b[0;36m__init__\u001b[1;34m(self, src, **kwds)\u001b[0m\n\u001b[0;32m   1865\u001b[0m \u001b[1;33m\u001b[0m\u001b[0m\n\u001b[0;32m   1866\u001b[0m         \u001b[1;31m# open handles\u001b[0m\u001b[1;33m\u001b[0m\u001b[1;33m\u001b[0m\u001b[1;33m\u001b[0m\u001b[0m\n\u001b[1;32m-> 1867\u001b[1;33m         \u001b[0mself\u001b[0m\u001b[1;33m.\u001b[0m\u001b[0m_open_handles\u001b[0m\u001b[1;33m(\u001b[0m\u001b[0msrc\u001b[0m\u001b[1;33m,\u001b[0m \u001b[0mkwds\u001b[0m\u001b[1;33m)\u001b[0m\u001b[1;33m\u001b[0m\u001b[1;33m\u001b[0m\u001b[0m\n\u001b[0m\u001b[0;32m   1868\u001b[0m         \u001b[1;32massert\u001b[0m \u001b[0mself\u001b[0m\u001b[1;33m.\u001b[0m\u001b[0mhandles\u001b[0m \u001b[1;32mis\u001b[0m \u001b[1;32mnot\u001b[0m \u001b[1;32mNone\u001b[0m\u001b[1;33m\u001b[0m\u001b[1;33m\u001b[0m\u001b[0m\n\u001b[0;32m   1869\u001b[0m         \u001b[1;32mfor\u001b[0m \u001b[0mkey\u001b[0m \u001b[1;32min\u001b[0m \u001b[1;33m(\u001b[0m\u001b[1;34m\"storage_options\"\u001b[0m\u001b[1;33m,\u001b[0m \u001b[1;34m\"encoding\"\u001b[0m\u001b[1;33m,\u001b[0m \u001b[1;34m\"memory_map\"\u001b[0m\u001b[1;33m,\u001b[0m \u001b[1;34m\"compression\"\u001b[0m\u001b[1;33m)\u001b[0m\u001b[1;33m:\u001b[0m\u001b[1;33m\u001b[0m\u001b[1;33m\u001b[0m\u001b[0m\n",
      "\u001b[1;32m~\\AppData\\Roaming\\Python\\Python37\\site-packages\\pandas\\io\\parsers.py\u001b[0m in \u001b[0;36m_open_handles\u001b[1;34m(self, src, kwds)\u001b[0m\n\u001b[0;32m   1366\u001b[0m             \u001b[0mcompression\u001b[0m\u001b[1;33m=\u001b[0m\u001b[0mkwds\u001b[0m\u001b[1;33m.\u001b[0m\u001b[0mget\u001b[0m\u001b[1;33m(\u001b[0m\u001b[1;34m\"compression\"\u001b[0m\u001b[1;33m,\u001b[0m \u001b[1;32mNone\u001b[0m\u001b[1;33m)\u001b[0m\u001b[1;33m,\u001b[0m\u001b[1;33m\u001b[0m\u001b[1;33m\u001b[0m\u001b[0m\n\u001b[0;32m   1367\u001b[0m             \u001b[0mmemory_map\u001b[0m\u001b[1;33m=\u001b[0m\u001b[0mkwds\u001b[0m\u001b[1;33m.\u001b[0m\u001b[0mget\u001b[0m\u001b[1;33m(\u001b[0m\u001b[1;34m\"memory_map\"\u001b[0m\u001b[1;33m,\u001b[0m \u001b[1;32mFalse\u001b[0m\u001b[1;33m)\u001b[0m\u001b[1;33m,\u001b[0m\u001b[1;33m\u001b[0m\u001b[1;33m\u001b[0m\u001b[0m\n\u001b[1;32m-> 1368\u001b[1;33m             \u001b[0mstorage_options\u001b[0m\u001b[1;33m=\u001b[0m\u001b[0mkwds\u001b[0m\u001b[1;33m.\u001b[0m\u001b[0mget\u001b[0m\u001b[1;33m(\u001b[0m\u001b[1;34m\"storage_options\"\u001b[0m\u001b[1;33m,\u001b[0m \u001b[1;32mNone\u001b[0m\u001b[1;33m)\u001b[0m\u001b[1;33m,\u001b[0m\u001b[1;33m\u001b[0m\u001b[1;33m\u001b[0m\u001b[0m\n\u001b[0m\u001b[0;32m   1369\u001b[0m         )\n\u001b[0;32m   1370\u001b[0m \u001b[1;33m\u001b[0m\u001b[0m\n",
      "\u001b[1;32m~\\AppData\\Roaming\\Python\\Python37\\site-packages\\pandas\\io\\common.py\u001b[0m in \u001b[0;36mget_handle\u001b[1;34m(path_or_buf, mode, encoding, compression, memory_map, is_text, errors, storage_options)\u001b[0m\n\u001b[0;32m    645\u001b[0m                 \u001b[0mencoding\u001b[0m\u001b[1;33m=\u001b[0m\u001b[0mioargs\u001b[0m\u001b[1;33m.\u001b[0m\u001b[0mencoding\u001b[0m\u001b[1;33m,\u001b[0m\u001b[1;33m\u001b[0m\u001b[1;33m\u001b[0m\u001b[0m\n\u001b[0;32m    646\u001b[0m                 \u001b[0merrors\u001b[0m\u001b[1;33m=\u001b[0m\u001b[0merrors\u001b[0m\u001b[1;33m,\u001b[0m\u001b[1;33m\u001b[0m\u001b[1;33m\u001b[0m\u001b[0m\n\u001b[1;32m--> 647\u001b[1;33m                 \u001b[0mnewline\u001b[0m\u001b[1;33m=\u001b[0m\u001b[1;34m\"\"\u001b[0m\u001b[1;33m,\u001b[0m\u001b[1;33m\u001b[0m\u001b[1;33m\u001b[0m\u001b[0m\n\u001b[0m\u001b[0;32m    648\u001b[0m             )\n\u001b[0;32m    649\u001b[0m         \u001b[1;32melse\u001b[0m\u001b[1;33m:\u001b[0m\u001b[1;33m\u001b[0m\u001b[1;33m\u001b[0m\u001b[0m\n",
      "\u001b[1;31mFileNotFoundError\u001b[0m: [Errno 2] No such file or directory: 'Stations_2019.csv'"
     ]
    }
   ],
   "source": [
    "path_finder('tester_path.txt')"
   ]
  },
  {
   "cell_type": "code",
   "execution_count": 5,
   "metadata": {},
   "outputs": [
    {
     "name": "stdout",
     "output_type": "stream",
     "text": [
      "[29794135, 29784599, 133342201, 208932417, 3577140054, 208932355, 208932395, 208932380, 182070156, 30451683, 209424689, 30451684, 209424712, 209424721, 6896814378, 209424753, 209424759, 209424731, 30451686, 209424746, 32585979, 209424929, 209473668, 209473608, 209473612, 209473664, 438303032, 209481363, 209481366, 209481369, 438304349, 209481435, 209481473, 209473970, 209493244, 209493248, 209493251, 209493254, 209507837, 209508036, 209493262, 209493266, 209493291, 209508004, 218343997, 213760015, 218343991, 218343986, 209507991, 218315741, 218315532, 218315535, 218344052]\n"
     ]
    }
   ],
   "source": [
    "origin_point = (45.5173538,-73.58212888)\n",
    "destination_point = (45.539385081961676,-73.54099988937377)\n",
    "# get the nearest nodes to the locations \n",
    "origin_node = ox.get_nearest_node(G, origin_point) \n",
    "destination_node = ox.get_nearest_node(G, destination_point)\n",
    "# Finding the optimal path \n",
    "route = nx.shortest_path(G, origin_node, destination_node, weight = 'length')\n",
    "print(route)"
   ]
  },
  {
   "cell_type": "code",
   "execution_count": 6,
   "metadata": {},
   "outputs": [],
   "source": [
    "route_pd = pd.DataFrame(route)\n",
    "route_pd.to_csv('path.csv', index = False)"
   ]
  },
  {
   "cell_type": "code",
   "execution_count": 7,
   "metadata": {},
   "outputs": [],
   "source": [
    "#store long, lat\n",
    "long = [] \n",
    "lat = []  \n",
    "for i in route:\n",
    "     point = G.nodes[i]\n",
    "     long.append(point['x'])\n",
    "     lat.append(point['y'])"
   ]
  },
  {
   "cell_type": "code",
   "execution_count": 8,
   "metadata": {},
   "outputs": [
    {
     "ename": "NameError",
     "evalue": "name 'pa' is not defined",
     "output_type": "error",
     "traceback": [
      "\u001b[1;31m---------------------------------------------------------------------------\u001b[0m",
      "\u001b[1;31mNameError\u001b[0m                                 Traceback (most recent call last)",
      "\u001b[1;32m<ipython-input-8-8a47fa9b4980>\u001b[0m in \u001b[0;36m<module>\u001b[1;34m\u001b[0m\n\u001b[0;32m      2\u001b[0m \u001b[0mroute_pd\u001b[0m \u001b[1;33m=\u001b[0m \u001b[0mpd\u001b[0m\u001b[1;33m.\u001b[0m\u001b[0mDataFrame\u001b[0m\u001b[1;33m(\u001b[0m\u001b[0mroute_pd\u001b[0m\u001b[1;33m)\u001b[0m\u001b[1;33m\u001b[0m\u001b[1;33m\u001b[0m\u001b[0m\n\u001b[0;32m      3\u001b[0m \u001b[0mroute_pd\u001b[0m \u001b[1;33m=\u001b[0m \u001b[0mroute_pd\u001b[0m\u001b[1;33m.\u001b[0m\u001b[0mT\u001b[0m\u001b[1;33m\u001b[0m\u001b[1;33m\u001b[0m\u001b[0m\n\u001b[1;32m----> 4\u001b[1;33m \u001b[0mdata\u001b[0m \u001b[1;33m=\u001b[0m \u001b[0mjson\u001b[0m\u001b[1;33m.\u001b[0m\u001b[0mloads\u001b[0m\u001b[1;33m(\u001b[0m\u001b[0mpa\u001b[0m\u001b[1;33m)\u001b[0m\u001b[1;33m\u001b[0m\u001b[1;33m\u001b[0m\u001b[0m\n\u001b[0m\u001b[0;32m      5\u001b[0m \u001b[0mdata\u001b[0m\u001b[1;33m[\u001b[0m\u001b[1;34m'features'\u001b[0m\u001b[1;33m]\u001b[0m\u001b[1;33m[\u001b[0m\u001b[1;36m0\u001b[0m\u001b[1;33m]\u001b[0m\u001b[1;33m[\u001b[0m\u001b[1;34m'geometry'\u001b[0m\u001b[1;33m]\u001b[0m \u001b[1;31m#Your first point\u001b[0m\u001b[1;33m\u001b[0m\u001b[1;33m\u001b[0m\u001b[0m\n\u001b[0;32m      6\u001b[0m \u001b[1;31m#route_pd.to_csv('path.csv', index = False)\u001b[0m\u001b[1;33m\u001b[0m\u001b[1;33m\u001b[0m\u001b[1;33m\u001b[0m\u001b[0m\n",
      "\u001b[1;31mNameError\u001b[0m: name 'pa' is not defined"
     ]
    }
   ],
   "source": [
    "route_pd = [lat, long]\n",
    "route_pd = pd.DataFrame(route_pd)\n",
    "route_pd = route_pd.T\n",
    "data = json.loads(pa)\n",
    "data['features'][0]['geometry'] #Your first point\n",
    "#route_pd.to_csv('path.csv', index = False)\n",
    "#route_pd"
   ]
  },
  {
   "cell_type": "code",
   "execution_count": 9,
   "metadata": {},
   "outputs": [
    {
     "name": "stdout",
     "output_type": "stream",
     "text": [
      "{'y': 45.5174755, 'x': -73.5821812, 'street_count': 4}\n",
      "{'y': 45.5180147, 'x': -73.5816922, 'highway': 'traffic_signals', 'street_count': 4}\n",
      "{'y': 45.5184878, 'x': -73.5812402, 'street_count': 4}\n",
      "{'y': 45.5189296, 'x': -73.5808263, 'highway': 'traffic_signals', 'street_count': 4}\n",
      "{'y': 45.5193716, 'x': -73.5804146, 'street_count': 4}\n",
      "{'y': 45.5198291, 'x': -73.5799889, 'highway': 'traffic_signals', 'street_count': 4}\n",
      "{'y': 45.5202855, 'x': -73.5795667, 'street_count': 4}\n",
      "{'y': 45.5207592, 'x': -73.5791285, 'highway': 'traffic_signals', 'street_count': 4}\n",
      "{'y': 45.5212077, 'x': -73.5787116, 'street_count': 4}\n",
      "{'y': 45.521794, 'x': -73.5781665, 'highway': 'traffic_signals', 'street_count': 4}\n",
      "{'y': 45.5223497, 'x': -73.5776691, 'street_count': 4}\n",
      "{'y': 45.5227964, 'x': -73.5772587, 'highway': 'traffic_signals', 'street_count': 4}\n",
      "{'y': 45.5235214, 'x': -73.5765914, 'highway': 'traffic_signals', 'street_count': 4}\n",
      "{'y': 45.5239843, 'x': -73.5761569, 'street_count': 4}\n",
      "{'y': 45.5242736, 'x': -73.5758868, 'street_count': 4}\n",
      "{'y': 45.524865, 'x': -73.5753533, 'street_count': 4}\n",
      "{'y': 45.5252047, 'x': -73.5750482, 'street_count': 3}\n",
      "{'y': 45.5255358, 'x': -73.5747237, 'street_count': 3}\n",
      "{'y': 45.5256509, 'x': -73.5743281, 'highway': 'traffic_signals', 'street_count': 4}\n",
      "{'y': 45.5263989, 'x': -73.5734481, 'highway': 'traffic_signals', 'street_count': 4}\n",
      "{'y': 45.5269433, 'x': -73.5729463, 'highway': 'traffic_signals', 'street_count': 3}\n",
      "{'y': 45.527454, 'x': -73.5724684, 'street_count': 3}\n",
      "{'y': 45.5279254, 'x': -73.5720221, 'highway': 'traffic_signals', 'street_count': 4}\n",
      "{'y': 45.5285022, 'x': -73.5714715, 'street_count': 3}\n",
      "{'y': 45.5291743, 'x': -73.5708241, 'street_count': 3}\n",
      "{'y': 45.5298214, 'x': -73.5702007, 'highway': 'traffic_signals', 'street_count': 4}\n",
      "{'y': 45.5305503, 'x': -73.5695065, 'highway': 'traffic_signals', 'street_count': 4}\n",
      "{'y': 45.5312254, 'x': -73.5688649, 'street_count': 3}\n",
      "{'y': 45.5317003, 'x': -73.5684137, 'street_count': 3}\n",
      "{'y': 45.5321654, 'x': -73.5679717, 'street_count': 4}\n",
      "{'y': 45.5327803, 'x': -73.5673644, 'highway': 'traffic_signals', 'street_count': 4}\n",
      "{'y': 45.5333703, 'x': -73.566786, 'street_count': 4}\n",
      "{'y': 45.5341072, 'x': -73.5660965, 'street_count': 4}\n",
      "{'y': 45.5345989, 'x': -73.5656323, 'street_count': 4}\n",
      "{'y': 45.5351224, 'x': -73.565138, 'street_count': 4}\n",
      "{'y': 45.5362699, 'x': -73.5640546, 'street_count': 4}\n",
      "{'y': 45.5368403, 'x': -73.5635161, 'highway': 'traffic_signals', 'street_count': 4}\n",
      "{'y': 45.5373908, 'x': -73.5630193, 'highway': 'traffic_signals', 'street_count': 4}\n",
      "{'y': 45.5379645, 'x': -73.5625165, 'street_count': 4}\n",
      "{'y': 45.5384411, 'x': -73.5620843, 'street_count': 3}\n",
      "{'y': 45.53904, 'x': -73.5616006, 'highway': 'traffic_signals', 'street_count': 4}\n",
      "{'y': 45.5395451, 'x': -73.5614004, 'street_count': 3}\n",
      "{'y': 45.5391034, 'x': -73.5596961, 'highway': 'traffic_signals', 'street_count': 4}\n",
      "{'y': 45.539686, 'x': -73.5593741, 'street_count': 3}\n",
      "{'y': 45.5410935, 'x': -73.558613, 'highway': 'traffic_signals', 'street_count': 4}\n",
      "{'y': 45.542418, 'x': -73.5578738, 'highway': 'traffic_signals', 'street_count': 3}\n",
      "{'y': 45.5414817, 'x': -73.5546969, 'street_count': 4}\n",
      "{'y': 45.5406026, 'x': -73.5516713, 'street_count': 4}\n",
      "{'y': 45.5396113, 'x': -73.5483239, 'street_count': 4}\n",
      "{'y': 45.5384289, 'x': -73.5443849, 'street_count': 4}\n",
      "{'y': 45.5377622, 'x': -73.5421714, 'street_count': 4}\n",
      "{'y': 45.5384516, 'x': -73.5416796, 'street_count': 4}\n",
      "{'y': 45.5391713, 'x': -73.5411574, 'highway': 'traffic_signals', 'street_count': 4}\n",
      "{\"type\": \"FeatureCollection\",\"features\": [{\"type\": \"Feature\",\"properties\": {\"vendor\":  \"A\"},\"geometry\": {\"type\": \"LineString\",\"coordinates\": [ [-73.5821812,45.5174755],\n",
      "[-73.5816922,45.5180147],\n",
      "[-73.5812402,45.5184878],\n",
      "[-73.5808263,45.5189296],\n",
      "[-73.5804146,45.5193716],\n",
      "[-73.5799889,45.5198291],\n",
      "[-73.5795667,45.5202855],\n",
      "[-73.5791285,45.5207592],\n",
      "[-73.5787116,45.5212077],\n",
      "[-73.5781665,45.521794],\n",
      "[-73.5776691,45.5223497],\n",
      "[-73.5772587,45.5227964],\n",
      "[-73.5765914,45.5235214],\n",
      "[-73.5761569,45.5239843],\n",
      "[-73.5758868,45.5242736],\n",
      "[-73.5753533,45.524865],\n",
      "[-73.5750482,45.5252047],\n",
      "[-73.5747237,45.5255358],\n",
      "[-73.5743281,45.5256509],\n",
      "[-73.5734481,45.5263989],\n",
      "[-73.5729463,45.5269433],\n",
      "[-73.5724684,45.527454],\n",
      "[-73.5720221,45.5279254],\n",
      "[-73.5714715,45.5285022],\n",
      "[-73.5708241,45.5291743],\n",
      "[-73.5702007,45.5298214],\n",
      "[-73.5695065,45.5305503],\n",
      "[-73.5688649,45.5312254],\n",
      "[-73.5684137,45.5317003],\n",
      "[-73.5679717,45.5321654],\n",
      "[-73.5673644,45.5327803],\n",
      "[-73.566786,45.5333703],\n",
      "[-73.5660965,45.5341072],\n",
      "[-73.5656323,45.5345989],\n",
      "[-73.565138,45.5351224],\n",
      "[-73.5640546,45.5362699],\n",
      "[-73.5635161,45.5368403],\n",
      "[-73.5630193,45.5373908],\n",
      "[-73.5625165,45.5379645],\n",
      "[-73.5620843,45.5384411],\n",
      "[-73.5616006,45.53904],\n",
      "[-73.5614004,45.5395451],\n",
      "[-73.5596961,45.5391034],\n",
      "[-73.5593741,45.539686],\n",
      "[-73.558613,45.5410935],\n",
      "[-73.5578738,45.542418],\n",
      "[-73.5546969,45.5414817],\n",
      "[-73.5516713,45.5406026],\n",
      "[-73.5483239,45.5396113],\n",
      "[-73.5443849,45.5384289],\n",
      "[-73.5421714,45.5377622],\n",
      "[-73.5416796,45.5384516],\n",
      "[-73.5411574,45.5391713],\n",
      "]}}]}\n",
      "53\n"
     ]
    }
   ],
   "source": [
    "#store long, lat\n",
    "\"\"\"\"string = \"\"{\n",
    "  \"type\": \"FeatureCollection\",\n",
    "  \"features\": [\n",
    "    {\n",
    "      \"type\": \"Feature\",\n",
    "      \"properties\": {\n",
    "        \"vendor\":  \"A\"\n",
    "      },\n",
    "      \"geometry\": {\n",
    "        \"type\": \"LineString\",\n",
    "        \"coordinates\": [\n",
    "          [-74.20986, 40.81773, 0],\n",
    "          [-74.20987, 40.81765, 0],\n",
    "          [-74.20998, 40.81746, 0]\n",
    "        ]\n",
    "      }\n",
    "    }\n",
    "  ]\n",
    "}\"\"\"\n",
    "first_string = \"{\\\"type\\\": \\\"FeatureCollection\\\",\\\"features\\\": [{\\\"type\\\": \\\"Feature\\\",\\\"properties\\\": {\\\"vendor\\\":  \\\"A\\\"},\\\"geometry\\\": {\\\"type\\\": \\\"LineString\\\",\\\"coordinates\\\": [ \"\n",
    "coordinates = \"\"\n",
    "long = [] \n",
    "lat = []  \n",
    "for i in route: \n",
    "    point = G.nodes[i]\n",
    "    print(point)\n",
    "    long.append(point['x'])\n",
    "    lat.append(point['y'])\n",
    "    long_lat = \"[\" + str(point['x']) + \",\" + str(point['y']) + \"],\\n\"\n",
    "    coordinates += long_lat\n",
    "final_string = \"]}}]}\"\n",
    "string = first_string + coordinates + final_string\n",
    "print(string)\n",
    "print(len(route))\n",
    "file2write=open(\"pathh\",'w')\n",
    "file2write.write(string)\n",
    "file2write.close()"
   ]
  },
  {
   "cell_type": "code",
   "execution_count": 30,
   "metadata": {},
   "outputs": [
    {
     "data": {
      "text/plain": [
       "'import pandas as pd\\nimport geojson\\n\\ndef data2geojson(df):\\n    features = []\\n    insert_features = lambda X: features.append(\\n            geojson.Feature(geometry=geojson.Point((X[\"long\"],\\n                                                    X[\"lat\"]))))\\n    df.apply(insert_features, axis=1)\\n    with open(\\'map1.geojson\\', \\'w\\', encoding=\\'utf8\\') as fp:\\n        geojson.dump(geojson.FeatureCollection(features), fp, sort_keys=True, ensure_ascii=False)\\n\\ncol = [\\'lat\\',\\'long\\']\\ndata = [[-29.9953,-70.5867],\\n        [-30.1217,-70.4933],\\n        [-30.0953,-70.5008]]\\n\\ndf = pd.DataFrame(data, columns=col)\\ndata2geojson(df)\\nprint(df)'"
      ]
     },
     "execution_count": 30,
     "metadata": {},
     "output_type": "execute_result"
    }
   ],
   "source": [
    "\"\"\"import pandas as pd\n",
    "import geojson\n",
    "\n",
    "def data2geojson(df):\n",
    "    features = []\n",
    "    insert_features = lambda X: features.append(\n",
    "            geojson.Feature(geometry=geojson.Point((X[\"long\"],\n",
    "                                                    X[\"lat\"]))))\n",
    "    df.apply(insert_features, axis=1)\n",
    "    with open('map1.geojson', 'w', encoding='utf8') as fp:\n",
    "        geojson.dump(geojson.FeatureCollection(features), fp, sort_keys=True, ensure_ascii=False)\n",
    "\n",
    "col = ['lat','long']\n",
    "data = [[-29.9953,-70.5867],\n",
    "        [-30.1217,-70.4933],\n",
    "        [-30.0953,-70.5008]]\n",
    "\n",
    "df = pd.DataFrame(data, columns=col)\n",
    "data2geojson(df)\n",
    "print(df)\"\"\""
   ]
  },
  {
   "cell_type": "code",
   "execution_count": 33,
   "metadata": {},
   "outputs": [],
   "source": [
    "def plot_path(lat, long, origin_point, destination_point):\n",
    "  \n",
    "    # adding the lines joining the nodes\n",
    "    fig = go.Figure(go.Scattermapbox(\n",
    "        name = \"Path\",\n",
    "        mode = \"lines\",\n",
    "        lon = long,\n",
    "        lat = lat,\n",
    "        marker = {'size': 10},\n",
    "        line = dict(width = 4.5, color = 'purple')))\n",
    "    # adding source marker\n",
    "    fig.add_trace(go.Scattermapbox(\n",
    "        name = \"Source\",\n",
    "        mode = \"markers\",\n",
    "        lon = [origin_point[1]],\n",
    "        lat = [origin_point[0]],\n",
    "        marker = {'size': 12, 'color':\"red\"}))\n",
    "     \n",
    "    # adding destination marker\n",
    "    fig.add_trace(go.Scattermapbox(\n",
    "        name = \"Destination\",\n",
    "        mode = \"markers\",\n",
    "        lon = [destination_point[1]],\n",
    "        lat = [destination_point[0]],\n",
    "        marker = {'size': 12, 'color':'green'}))\n",
    "    \n",
    "    # getting center for plots:\n",
    "    lat_center = np.mean(lat)\n",
    "    long_center = np.mean(long)\n",
    "    # defining the layout using mapbox_style\n",
    "    fig.update_layout(mapbox_style=\"stamen-terrain\",\n",
    "        mapbox_center_lat = 30, mapbox_center_lon=-80)\n",
    "    fig.update_layout(margin={\"r\":0,\"t\":0,\"l\":0,\"b\":0},\n",
    "                      mapbox = {\n",
    "                          'center': {'lat': lat_center, \n",
    "                          'lon': long_center},\n",
    "                          'zoom': 13})\n",
    "    fig.show()"
   ]
  },
  {
   "cell_type": "code",
   "execution_count": 34,
   "metadata": {},
   "outputs": [
    {
     "data": {
      "application/vnd.plotly.v1+json": {
       "config": {
        "plotlyServerURL": "https://plot.ly"
       },
       "data": [
        {
         "lat": [
          45.5174755,
          45.5180147,
          45.5184878,
          45.5189296,
          45.5193716,
          45.5198291,
          45.5202855,
          45.5207592,
          45.5212077,
          45.521794,
          45.5223497,
          45.5227964,
          45.5235214,
          45.5239843,
          45.5242736,
          45.524865,
          45.5252047,
          45.5255358,
          45.5256509,
          45.5263989,
          45.5269433,
          45.527454,
          45.5279254,
          45.5285022,
          45.5291743,
          45.5298214,
          45.5305503,
          45.5312254,
          45.5317003,
          45.5321654,
          45.5327803,
          45.5333703,
          45.5341072,
          45.5345989,
          45.5351224,
          45.5362699,
          45.5368403,
          45.5373908,
          45.5379645,
          45.5384411,
          45.53904,
          45.5395451,
          45.5391034,
          45.539686,
          45.5410935,
          45.542418,
          45.5414817,
          45.5406026,
          45.5396113,
          45.5384289,
          45.5377622,
          45.5384516,
          45.5391713
         ],
         "line": {
          "color": "purple",
          "width": 4.5
         },
         "lon": [
          -73.5821812,
          -73.5816922,
          -73.5812402,
          -73.5808263,
          -73.5804146,
          -73.5799889,
          -73.5795667,
          -73.5791285,
          -73.5787116,
          -73.5781665,
          -73.5776691,
          -73.5772587,
          -73.5765914,
          -73.5761569,
          -73.5758868,
          -73.5753533,
          -73.5750482,
          -73.5747237,
          -73.5743281,
          -73.5734481,
          -73.5729463,
          -73.5724684,
          -73.5720221,
          -73.5714715,
          -73.5708241,
          -73.5702007,
          -73.5695065,
          -73.5688649,
          -73.5684137,
          -73.5679717,
          -73.5673644,
          -73.566786,
          -73.5660965,
          -73.5656323,
          -73.565138,
          -73.5640546,
          -73.5635161,
          -73.5630193,
          -73.5625165,
          -73.5620843,
          -73.5616006,
          -73.5614004,
          -73.5596961,
          -73.5593741,
          -73.558613,
          -73.5578738,
          -73.5546969,
          -73.5516713,
          -73.5483239,
          -73.5443849,
          -73.5421714,
          -73.5416796,
          -73.5411574
         ],
         "marker": {
          "size": 10
         },
         "mode": "lines",
         "name": "Path",
         "type": "scattermapbox"
        },
        {
         "lat": [
          45.5173538
         ],
         "lon": [
          -73.58212888
         ],
         "marker": {
          "color": "red",
          "size": 12
         },
         "mode": "markers",
         "name": "Source",
         "type": "scattermapbox"
        },
        {
         "lat": [
          45.539385081961676
         ],
         "lon": [
          -73.54099988937377
         ],
         "marker": {
          "color": "green",
          "size": 12
         },
         "mode": "markers",
         "name": "Destination",
         "type": "scattermapbox"
        }
       ],
       "layout": {
        "mapbox": {
         "center": {
          "lat": 45.53036752264151,
          "lon": -73.56777211886792
         },
         "style": "stamen-terrain",
         "zoom": 13
        },
        "margin": {
         "b": 0,
         "l": 0,
         "r": 0,
         "t": 0
        },
        "template": {
         "data": {
          "bar": [
           {
            "error_x": {
             "color": "#2a3f5f"
            },
            "error_y": {
             "color": "#2a3f5f"
            },
            "marker": {
             "line": {
              "color": "#E5ECF6",
              "width": 0.5
             }
            },
            "type": "bar"
           }
          ],
          "barpolar": [
           {
            "marker": {
             "line": {
              "color": "#E5ECF6",
              "width": 0.5
             }
            },
            "type": "barpolar"
           }
          ],
          "carpet": [
           {
            "aaxis": {
             "endlinecolor": "#2a3f5f",
             "gridcolor": "white",
             "linecolor": "white",
             "minorgridcolor": "white",
             "startlinecolor": "#2a3f5f"
            },
            "baxis": {
             "endlinecolor": "#2a3f5f",
             "gridcolor": "white",
             "linecolor": "white",
             "minorgridcolor": "white",
             "startlinecolor": "#2a3f5f"
            },
            "type": "carpet"
           }
          ],
          "choropleth": [
           {
            "colorbar": {
             "outlinewidth": 0,
             "ticks": ""
            },
            "type": "choropleth"
           }
          ],
          "contour": [
           {
            "colorbar": {
             "outlinewidth": 0,
             "ticks": ""
            },
            "colorscale": [
             [
              0,
              "#0d0887"
             ],
             [
              0.1111111111111111,
              "#46039f"
             ],
             [
              0.2222222222222222,
              "#7201a8"
             ],
             [
              0.3333333333333333,
              "#9c179e"
             ],
             [
              0.4444444444444444,
              "#bd3786"
             ],
             [
              0.5555555555555556,
              "#d8576b"
             ],
             [
              0.6666666666666666,
              "#ed7953"
             ],
             [
              0.7777777777777778,
              "#fb9f3a"
             ],
             [
              0.8888888888888888,
              "#fdca26"
             ],
             [
              1,
              "#f0f921"
             ]
            ],
            "type": "contour"
           }
          ],
          "contourcarpet": [
           {
            "colorbar": {
             "outlinewidth": 0,
             "ticks": ""
            },
            "type": "contourcarpet"
           }
          ],
          "heatmap": [
           {
            "colorbar": {
             "outlinewidth": 0,
             "ticks": ""
            },
            "colorscale": [
             [
              0,
              "#0d0887"
             ],
             [
              0.1111111111111111,
              "#46039f"
             ],
             [
              0.2222222222222222,
              "#7201a8"
             ],
             [
              0.3333333333333333,
              "#9c179e"
             ],
             [
              0.4444444444444444,
              "#bd3786"
             ],
             [
              0.5555555555555556,
              "#d8576b"
             ],
             [
              0.6666666666666666,
              "#ed7953"
             ],
             [
              0.7777777777777778,
              "#fb9f3a"
             ],
             [
              0.8888888888888888,
              "#fdca26"
             ],
             [
              1,
              "#f0f921"
             ]
            ],
            "type": "heatmap"
           }
          ],
          "heatmapgl": [
           {
            "colorbar": {
             "outlinewidth": 0,
             "ticks": ""
            },
            "colorscale": [
             [
              0,
              "#0d0887"
             ],
             [
              0.1111111111111111,
              "#46039f"
             ],
             [
              0.2222222222222222,
              "#7201a8"
             ],
             [
              0.3333333333333333,
              "#9c179e"
             ],
             [
              0.4444444444444444,
              "#bd3786"
             ],
             [
              0.5555555555555556,
              "#d8576b"
             ],
             [
              0.6666666666666666,
              "#ed7953"
             ],
             [
              0.7777777777777778,
              "#fb9f3a"
             ],
             [
              0.8888888888888888,
              "#fdca26"
             ],
             [
              1,
              "#f0f921"
             ]
            ],
            "type": "heatmapgl"
           }
          ],
          "histogram": [
           {
            "marker": {
             "colorbar": {
              "outlinewidth": 0,
              "ticks": ""
             }
            },
            "type": "histogram"
           }
          ],
          "histogram2d": [
           {
            "colorbar": {
             "outlinewidth": 0,
             "ticks": ""
            },
            "colorscale": [
             [
              0,
              "#0d0887"
             ],
             [
              0.1111111111111111,
              "#46039f"
             ],
             [
              0.2222222222222222,
              "#7201a8"
             ],
             [
              0.3333333333333333,
              "#9c179e"
             ],
             [
              0.4444444444444444,
              "#bd3786"
             ],
             [
              0.5555555555555556,
              "#d8576b"
             ],
             [
              0.6666666666666666,
              "#ed7953"
             ],
             [
              0.7777777777777778,
              "#fb9f3a"
             ],
             [
              0.8888888888888888,
              "#fdca26"
             ],
             [
              1,
              "#f0f921"
             ]
            ],
            "type": "histogram2d"
           }
          ],
          "histogram2dcontour": [
           {
            "colorbar": {
             "outlinewidth": 0,
             "ticks": ""
            },
            "colorscale": [
             [
              0,
              "#0d0887"
             ],
             [
              0.1111111111111111,
              "#46039f"
             ],
             [
              0.2222222222222222,
              "#7201a8"
             ],
             [
              0.3333333333333333,
              "#9c179e"
             ],
             [
              0.4444444444444444,
              "#bd3786"
             ],
             [
              0.5555555555555556,
              "#d8576b"
             ],
             [
              0.6666666666666666,
              "#ed7953"
             ],
             [
              0.7777777777777778,
              "#fb9f3a"
             ],
             [
              0.8888888888888888,
              "#fdca26"
             ],
             [
              1,
              "#f0f921"
             ]
            ],
            "type": "histogram2dcontour"
           }
          ],
          "mesh3d": [
           {
            "colorbar": {
             "outlinewidth": 0,
             "ticks": ""
            },
            "type": "mesh3d"
           }
          ],
          "parcoords": [
           {
            "line": {
             "colorbar": {
              "outlinewidth": 0,
              "ticks": ""
             }
            },
            "type": "parcoords"
           }
          ],
          "pie": [
           {
            "automargin": true,
            "type": "pie"
           }
          ],
          "scatter": [
           {
            "marker": {
             "colorbar": {
              "outlinewidth": 0,
              "ticks": ""
             }
            },
            "type": "scatter"
           }
          ],
          "scatter3d": [
           {
            "line": {
             "colorbar": {
              "outlinewidth": 0,
              "ticks": ""
             }
            },
            "marker": {
             "colorbar": {
              "outlinewidth": 0,
              "ticks": ""
             }
            },
            "type": "scatter3d"
           }
          ],
          "scattercarpet": [
           {
            "marker": {
             "colorbar": {
              "outlinewidth": 0,
              "ticks": ""
             }
            },
            "type": "scattercarpet"
           }
          ],
          "scattergeo": [
           {
            "marker": {
             "colorbar": {
              "outlinewidth": 0,
              "ticks": ""
             }
            },
            "type": "scattergeo"
           }
          ],
          "scattergl": [
           {
            "marker": {
             "colorbar": {
              "outlinewidth": 0,
              "ticks": ""
             }
            },
            "type": "scattergl"
           }
          ],
          "scattermapbox": [
           {
            "marker": {
             "colorbar": {
              "outlinewidth": 0,
              "ticks": ""
             }
            },
            "type": "scattermapbox"
           }
          ],
          "scatterpolar": [
           {
            "marker": {
             "colorbar": {
              "outlinewidth": 0,
              "ticks": ""
             }
            },
            "type": "scatterpolar"
           }
          ],
          "scatterpolargl": [
           {
            "marker": {
             "colorbar": {
              "outlinewidth": 0,
              "ticks": ""
             }
            },
            "type": "scatterpolargl"
           }
          ],
          "scatterternary": [
           {
            "marker": {
             "colorbar": {
              "outlinewidth": 0,
              "ticks": ""
             }
            },
            "type": "scatterternary"
           }
          ],
          "surface": [
           {
            "colorbar": {
             "outlinewidth": 0,
             "ticks": ""
            },
            "colorscale": [
             [
              0,
              "#0d0887"
             ],
             [
              0.1111111111111111,
              "#46039f"
             ],
             [
              0.2222222222222222,
              "#7201a8"
             ],
             [
              0.3333333333333333,
              "#9c179e"
             ],
             [
              0.4444444444444444,
              "#bd3786"
             ],
             [
              0.5555555555555556,
              "#d8576b"
             ],
             [
              0.6666666666666666,
              "#ed7953"
             ],
             [
              0.7777777777777778,
              "#fb9f3a"
             ],
             [
              0.8888888888888888,
              "#fdca26"
             ],
             [
              1,
              "#f0f921"
             ]
            ],
            "type": "surface"
           }
          ],
          "table": [
           {
            "cells": {
             "fill": {
              "color": "#EBF0F8"
             },
             "line": {
              "color": "white"
             }
            },
            "header": {
             "fill": {
              "color": "#C8D4E3"
             },
             "line": {
              "color": "white"
             }
            },
            "type": "table"
           }
          ]
         },
         "layout": {
          "annotationdefaults": {
           "arrowcolor": "#2a3f5f",
           "arrowhead": 0,
           "arrowwidth": 1
          },
          "autotypenumbers": "strict",
          "coloraxis": {
           "colorbar": {
            "outlinewidth": 0,
            "ticks": ""
           }
          },
          "colorscale": {
           "diverging": [
            [
             0,
             "#8e0152"
            ],
            [
             0.1,
             "#c51b7d"
            ],
            [
             0.2,
             "#de77ae"
            ],
            [
             0.3,
             "#f1b6da"
            ],
            [
             0.4,
             "#fde0ef"
            ],
            [
             0.5,
             "#f7f7f7"
            ],
            [
             0.6,
             "#e6f5d0"
            ],
            [
             0.7,
             "#b8e186"
            ],
            [
             0.8,
             "#7fbc41"
            ],
            [
             0.9,
             "#4d9221"
            ],
            [
             1,
             "#276419"
            ]
           ],
           "sequential": [
            [
             0,
             "#0d0887"
            ],
            [
             0.1111111111111111,
             "#46039f"
            ],
            [
             0.2222222222222222,
             "#7201a8"
            ],
            [
             0.3333333333333333,
             "#9c179e"
            ],
            [
             0.4444444444444444,
             "#bd3786"
            ],
            [
             0.5555555555555556,
             "#d8576b"
            ],
            [
             0.6666666666666666,
             "#ed7953"
            ],
            [
             0.7777777777777778,
             "#fb9f3a"
            ],
            [
             0.8888888888888888,
             "#fdca26"
            ],
            [
             1,
             "#f0f921"
            ]
           ],
           "sequentialminus": [
            [
             0,
             "#0d0887"
            ],
            [
             0.1111111111111111,
             "#46039f"
            ],
            [
             0.2222222222222222,
             "#7201a8"
            ],
            [
             0.3333333333333333,
             "#9c179e"
            ],
            [
             0.4444444444444444,
             "#bd3786"
            ],
            [
             0.5555555555555556,
             "#d8576b"
            ],
            [
             0.6666666666666666,
             "#ed7953"
            ],
            [
             0.7777777777777778,
             "#fb9f3a"
            ],
            [
             0.8888888888888888,
             "#fdca26"
            ],
            [
             1,
             "#f0f921"
            ]
           ]
          },
          "colorway": [
           "#636efa",
           "#EF553B",
           "#00cc96",
           "#ab63fa",
           "#FFA15A",
           "#19d3f3",
           "#FF6692",
           "#B6E880",
           "#FF97FF",
           "#FECB52"
          ],
          "font": {
           "color": "#2a3f5f"
          },
          "geo": {
           "bgcolor": "white",
           "lakecolor": "white",
           "landcolor": "#E5ECF6",
           "showlakes": true,
           "showland": true,
           "subunitcolor": "white"
          },
          "hoverlabel": {
           "align": "left"
          },
          "hovermode": "closest",
          "mapbox": {
           "style": "light"
          },
          "paper_bgcolor": "white",
          "plot_bgcolor": "#E5ECF6",
          "polar": {
           "angularaxis": {
            "gridcolor": "white",
            "linecolor": "white",
            "ticks": ""
           },
           "bgcolor": "#E5ECF6",
           "radialaxis": {
            "gridcolor": "white",
            "linecolor": "white",
            "ticks": ""
           }
          },
          "scene": {
           "xaxis": {
            "backgroundcolor": "#E5ECF6",
            "gridcolor": "white",
            "gridwidth": 2,
            "linecolor": "white",
            "showbackground": true,
            "ticks": "",
            "zerolinecolor": "white"
           },
           "yaxis": {
            "backgroundcolor": "#E5ECF6",
            "gridcolor": "white",
            "gridwidth": 2,
            "linecolor": "white",
            "showbackground": true,
            "ticks": "",
            "zerolinecolor": "white"
           },
           "zaxis": {
            "backgroundcolor": "#E5ECF6",
            "gridcolor": "white",
            "gridwidth": 2,
            "linecolor": "white",
            "showbackground": true,
            "ticks": "",
            "zerolinecolor": "white"
           }
          },
          "shapedefaults": {
           "line": {
            "color": "#2a3f5f"
           }
          },
          "ternary": {
           "aaxis": {
            "gridcolor": "white",
            "linecolor": "white",
            "ticks": ""
           },
           "baxis": {
            "gridcolor": "white",
            "linecolor": "white",
            "ticks": ""
           },
           "bgcolor": "#E5ECF6",
           "caxis": {
            "gridcolor": "white",
            "linecolor": "white",
            "ticks": ""
           }
          },
          "title": {
           "x": 0.05
          },
          "xaxis": {
           "automargin": true,
           "gridcolor": "white",
           "linecolor": "white",
           "ticks": "",
           "title": {
            "standoff": 15
           },
           "zerolinecolor": "white",
           "zerolinewidth": 2
          },
          "yaxis": {
           "automargin": true,
           "gridcolor": "white",
           "linecolor": "white",
           "ticks": "",
           "title": {
            "standoff": 15
           },
           "zerolinecolor": "white",
           "zerolinewidth": 2
          }
         }
        }
       }
      },
      "text/html": [
       "<div>                            <div id=\"8a07a046-e54a-42f6-87af-fe1bfcf777dc\" class=\"plotly-graph-div\" style=\"height:525px; width:100%;\"></div>            <script type=\"text/javascript\">                require([\"plotly\"], function(Plotly) {                    window.PLOTLYENV=window.PLOTLYENV || {};                                    if (document.getElementById(\"8a07a046-e54a-42f6-87af-fe1bfcf777dc\")) {                    Plotly.newPlot(                        \"8a07a046-e54a-42f6-87af-fe1bfcf777dc\",                        [{\"lat\": [45.5174755, 45.5180147, 45.5184878, 45.5189296, 45.5193716, 45.5198291, 45.5202855, 45.5207592, 45.5212077, 45.521794, 45.5223497, 45.5227964, 45.5235214, 45.5239843, 45.5242736, 45.524865, 45.5252047, 45.5255358, 45.5256509, 45.5263989, 45.5269433, 45.527454, 45.5279254, 45.5285022, 45.5291743, 45.5298214, 45.5305503, 45.5312254, 45.5317003, 45.5321654, 45.5327803, 45.5333703, 45.5341072, 45.5345989, 45.5351224, 45.5362699, 45.5368403, 45.5373908, 45.5379645, 45.5384411, 45.53904, 45.5395451, 45.5391034, 45.539686, 45.5410935, 45.542418, 45.5414817, 45.5406026, 45.5396113, 45.5384289, 45.5377622, 45.5384516, 45.5391713], \"line\": {\"color\": \"purple\", \"width\": 4.5}, \"lon\": [-73.5821812, -73.5816922, -73.5812402, -73.5808263, -73.5804146, -73.5799889, -73.5795667, -73.5791285, -73.5787116, -73.5781665, -73.5776691, -73.5772587, -73.5765914, -73.5761569, -73.5758868, -73.5753533, -73.5750482, -73.5747237, -73.5743281, -73.5734481, -73.5729463, -73.5724684, -73.5720221, -73.5714715, -73.5708241, -73.5702007, -73.5695065, -73.5688649, -73.5684137, -73.5679717, -73.5673644, -73.566786, -73.5660965, -73.5656323, -73.565138, -73.5640546, -73.5635161, -73.5630193, -73.5625165, -73.5620843, -73.5616006, -73.5614004, -73.5596961, -73.5593741, -73.558613, -73.5578738, -73.5546969, -73.5516713, -73.5483239, -73.5443849, -73.5421714, -73.5416796, -73.5411574], \"marker\": {\"size\": 10}, \"mode\": \"lines\", \"name\": \"Path\", \"type\": \"scattermapbox\"}, {\"lat\": [45.5173538], \"lon\": [-73.58212888], \"marker\": {\"color\": \"red\", \"size\": 12}, \"mode\": \"markers\", \"name\": \"Source\", \"type\": \"scattermapbox\"}, {\"lat\": [45.539385081961676], \"lon\": [-73.54099988937377], \"marker\": {\"color\": \"green\", \"size\": 12}, \"mode\": \"markers\", \"name\": \"Destination\", \"type\": \"scattermapbox\"}],                        {\"mapbox\": {\"center\": {\"lat\": 45.53036752264151, \"lon\": -73.56777211886792}, \"style\": \"stamen-terrain\", \"zoom\": 13}, \"margin\": {\"b\": 0, \"l\": 0, \"r\": 0, \"t\": 0}, \"template\": {\"data\": {\"bar\": [{\"error_x\": {\"color\": \"#2a3f5f\"}, \"error_y\": {\"color\": \"#2a3f5f\"}, \"marker\": {\"line\": {\"color\": \"#E5ECF6\", \"width\": 0.5}}, \"type\": \"bar\"}], \"barpolar\": [{\"marker\": {\"line\": {\"color\": \"#E5ECF6\", \"width\": 0.5}}, \"type\": \"barpolar\"}], \"carpet\": [{\"aaxis\": {\"endlinecolor\": \"#2a3f5f\", \"gridcolor\": \"white\", \"linecolor\": \"white\", \"minorgridcolor\": \"white\", \"startlinecolor\": \"#2a3f5f\"}, \"baxis\": {\"endlinecolor\": \"#2a3f5f\", \"gridcolor\": \"white\", \"linecolor\": \"white\", \"minorgridcolor\": \"white\", \"startlinecolor\": \"#2a3f5f\"}, \"type\": \"carpet\"}], \"choropleth\": [{\"colorbar\": {\"outlinewidth\": 0, \"ticks\": \"\"}, \"type\": \"choropleth\"}], \"contour\": [{\"colorbar\": {\"outlinewidth\": 0, \"ticks\": \"\"}, \"colorscale\": [[0.0, \"#0d0887\"], [0.1111111111111111, \"#46039f\"], [0.2222222222222222, \"#7201a8\"], [0.3333333333333333, \"#9c179e\"], [0.4444444444444444, \"#bd3786\"], [0.5555555555555556, \"#d8576b\"], [0.6666666666666666, \"#ed7953\"], [0.7777777777777778, \"#fb9f3a\"], [0.8888888888888888, \"#fdca26\"], [1.0, \"#f0f921\"]], \"type\": \"contour\"}], \"contourcarpet\": [{\"colorbar\": {\"outlinewidth\": 0, \"ticks\": \"\"}, \"type\": \"contourcarpet\"}], \"heatmap\": [{\"colorbar\": {\"outlinewidth\": 0, \"ticks\": \"\"}, \"colorscale\": [[0.0, \"#0d0887\"], [0.1111111111111111, \"#46039f\"], [0.2222222222222222, \"#7201a8\"], [0.3333333333333333, \"#9c179e\"], [0.4444444444444444, \"#bd3786\"], [0.5555555555555556, \"#d8576b\"], [0.6666666666666666, \"#ed7953\"], [0.7777777777777778, \"#fb9f3a\"], [0.8888888888888888, \"#fdca26\"], [1.0, \"#f0f921\"]], \"type\": \"heatmap\"}], \"heatmapgl\": [{\"colorbar\": {\"outlinewidth\": 0, \"ticks\": \"\"}, \"colorscale\": [[0.0, \"#0d0887\"], [0.1111111111111111, \"#46039f\"], [0.2222222222222222, \"#7201a8\"], [0.3333333333333333, \"#9c179e\"], [0.4444444444444444, \"#bd3786\"], [0.5555555555555556, \"#d8576b\"], [0.6666666666666666, \"#ed7953\"], [0.7777777777777778, \"#fb9f3a\"], [0.8888888888888888, \"#fdca26\"], [1.0, \"#f0f921\"]], \"type\": \"heatmapgl\"}], \"histogram\": [{\"marker\": {\"colorbar\": {\"outlinewidth\": 0, \"ticks\": \"\"}}, \"type\": \"histogram\"}], \"histogram2d\": [{\"colorbar\": {\"outlinewidth\": 0, \"ticks\": \"\"}, \"colorscale\": [[0.0, \"#0d0887\"], [0.1111111111111111, \"#46039f\"], [0.2222222222222222, \"#7201a8\"], [0.3333333333333333, \"#9c179e\"], [0.4444444444444444, \"#bd3786\"], [0.5555555555555556, \"#d8576b\"], [0.6666666666666666, \"#ed7953\"], [0.7777777777777778, \"#fb9f3a\"], [0.8888888888888888, \"#fdca26\"], [1.0, \"#f0f921\"]], \"type\": \"histogram2d\"}], \"histogram2dcontour\": [{\"colorbar\": {\"outlinewidth\": 0, \"ticks\": \"\"}, \"colorscale\": [[0.0, \"#0d0887\"], [0.1111111111111111, \"#46039f\"], [0.2222222222222222, \"#7201a8\"], [0.3333333333333333, \"#9c179e\"], [0.4444444444444444, \"#bd3786\"], [0.5555555555555556, \"#d8576b\"], [0.6666666666666666, \"#ed7953\"], [0.7777777777777778, \"#fb9f3a\"], [0.8888888888888888, \"#fdca26\"], [1.0, \"#f0f921\"]], \"type\": \"histogram2dcontour\"}], \"mesh3d\": [{\"colorbar\": {\"outlinewidth\": 0, \"ticks\": \"\"}, \"type\": \"mesh3d\"}], \"parcoords\": [{\"line\": {\"colorbar\": {\"outlinewidth\": 0, \"ticks\": \"\"}}, \"type\": \"parcoords\"}], \"pie\": [{\"automargin\": true, \"type\": \"pie\"}], \"scatter\": [{\"marker\": {\"colorbar\": {\"outlinewidth\": 0, \"ticks\": \"\"}}, \"type\": \"scatter\"}], \"scatter3d\": [{\"line\": {\"colorbar\": {\"outlinewidth\": 0, \"ticks\": \"\"}}, \"marker\": {\"colorbar\": {\"outlinewidth\": 0, \"ticks\": \"\"}}, \"type\": \"scatter3d\"}], \"scattercarpet\": [{\"marker\": {\"colorbar\": {\"outlinewidth\": 0, \"ticks\": \"\"}}, \"type\": \"scattercarpet\"}], \"scattergeo\": [{\"marker\": {\"colorbar\": {\"outlinewidth\": 0, \"ticks\": \"\"}}, \"type\": \"scattergeo\"}], \"scattergl\": [{\"marker\": {\"colorbar\": {\"outlinewidth\": 0, \"ticks\": \"\"}}, \"type\": \"scattergl\"}], \"scattermapbox\": [{\"marker\": {\"colorbar\": {\"outlinewidth\": 0, \"ticks\": \"\"}}, \"type\": \"scattermapbox\"}], \"scatterpolar\": [{\"marker\": {\"colorbar\": {\"outlinewidth\": 0, \"ticks\": \"\"}}, \"type\": \"scatterpolar\"}], \"scatterpolargl\": [{\"marker\": {\"colorbar\": {\"outlinewidth\": 0, \"ticks\": \"\"}}, \"type\": \"scatterpolargl\"}], \"scatterternary\": [{\"marker\": {\"colorbar\": {\"outlinewidth\": 0, \"ticks\": \"\"}}, \"type\": \"scatterternary\"}], \"surface\": [{\"colorbar\": {\"outlinewidth\": 0, \"ticks\": \"\"}, \"colorscale\": [[0.0, \"#0d0887\"], [0.1111111111111111, \"#46039f\"], [0.2222222222222222, \"#7201a8\"], [0.3333333333333333, \"#9c179e\"], [0.4444444444444444, \"#bd3786\"], [0.5555555555555556, \"#d8576b\"], [0.6666666666666666, \"#ed7953\"], [0.7777777777777778, \"#fb9f3a\"], [0.8888888888888888, \"#fdca26\"], [1.0, \"#f0f921\"]], \"type\": \"surface\"}], \"table\": [{\"cells\": {\"fill\": {\"color\": \"#EBF0F8\"}, \"line\": {\"color\": \"white\"}}, \"header\": {\"fill\": {\"color\": \"#C8D4E3\"}, \"line\": {\"color\": \"white\"}}, \"type\": \"table\"}]}, \"layout\": {\"annotationdefaults\": {\"arrowcolor\": \"#2a3f5f\", \"arrowhead\": 0, \"arrowwidth\": 1}, \"autotypenumbers\": \"strict\", \"coloraxis\": {\"colorbar\": {\"outlinewidth\": 0, \"ticks\": \"\"}}, \"colorscale\": {\"diverging\": [[0, \"#8e0152\"], [0.1, \"#c51b7d\"], [0.2, \"#de77ae\"], [0.3, \"#f1b6da\"], [0.4, \"#fde0ef\"], [0.5, \"#f7f7f7\"], [0.6, \"#e6f5d0\"], [0.7, \"#b8e186\"], [0.8, \"#7fbc41\"], [0.9, \"#4d9221\"], [1, \"#276419\"]], \"sequential\": [[0.0, \"#0d0887\"], [0.1111111111111111, \"#46039f\"], [0.2222222222222222, \"#7201a8\"], [0.3333333333333333, \"#9c179e\"], [0.4444444444444444, \"#bd3786\"], [0.5555555555555556, \"#d8576b\"], [0.6666666666666666, \"#ed7953\"], [0.7777777777777778, \"#fb9f3a\"], [0.8888888888888888, \"#fdca26\"], [1.0, \"#f0f921\"]], \"sequentialminus\": [[0.0, \"#0d0887\"], [0.1111111111111111, \"#46039f\"], [0.2222222222222222, \"#7201a8\"], [0.3333333333333333, \"#9c179e\"], [0.4444444444444444, \"#bd3786\"], [0.5555555555555556, \"#d8576b\"], [0.6666666666666666, \"#ed7953\"], [0.7777777777777778, \"#fb9f3a\"], [0.8888888888888888, \"#fdca26\"], [1.0, \"#f0f921\"]]}, \"colorway\": [\"#636efa\", \"#EF553B\", \"#00cc96\", \"#ab63fa\", \"#FFA15A\", \"#19d3f3\", \"#FF6692\", \"#B6E880\", \"#FF97FF\", \"#FECB52\"], \"font\": {\"color\": \"#2a3f5f\"}, \"geo\": {\"bgcolor\": \"white\", \"lakecolor\": \"white\", \"landcolor\": \"#E5ECF6\", \"showlakes\": true, \"showland\": true, \"subunitcolor\": \"white\"}, \"hoverlabel\": {\"align\": \"left\"}, \"hovermode\": \"closest\", \"mapbox\": {\"style\": \"light\"}, \"paper_bgcolor\": \"white\", \"plot_bgcolor\": \"#E5ECF6\", \"polar\": {\"angularaxis\": {\"gridcolor\": \"white\", \"linecolor\": \"white\", \"ticks\": \"\"}, \"bgcolor\": \"#E5ECF6\", \"radialaxis\": {\"gridcolor\": \"white\", \"linecolor\": \"white\", \"ticks\": \"\"}}, \"scene\": {\"xaxis\": {\"backgroundcolor\": \"#E5ECF6\", \"gridcolor\": \"white\", \"gridwidth\": 2, \"linecolor\": \"white\", \"showbackground\": true, \"ticks\": \"\", \"zerolinecolor\": \"white\"}, \"yaxis\": {\"backgroundcolor\": \"#E5ECF6\", \"gridcolor\": \"white\", \"gridwidth\": 2, \"linecolor\": \"white\", \"showbackground\": true, \"ticks\": \"\", \"zerolinecolor\": \"white\"}, \"zaxis\": {\"backgroundcolor\": \"#E5ECF6\", \"gridcolor\": \"white\", \"gridwidth\": 2, \"linecolor\": \"white\", \"showbackground\": true, \"ticks\": \"\", \"zerolinecolor\": \"white\"}}, \"shapedefaults\": {\"line\": {\"color\": \"#2a3f5f\"}}, \"ternary\": {\"aaxis\": {\"gridcolor\": \"white\", \"linecolor\": \"white\", \"ticks\": \"\"}, \"baxis\": {\"gridcolor\": \"white\", \"linecolor\": \"white\", \"ticks\": \"\"}, \"bgcolor\": \"#E5ECF6\", \"caxis\": {\"gridcolor\": \"white\", \"linecolor\": \"white\", \"ticks\": \"\"}}, \"title\": {\"x\": 0.05}, \"xaxis\": {\"automargin\": true, \"gridcolor\": \"white\", \"linecolor\": \"white\", \"ticks\": \"\", \"title\": {\"standoff\": 15}, \"zerolinecolor\": \"white\", \"zerolinewidth\": 2}, \"yaxis\": {\"automargin\": true, \"gridcolor\": \"white\", \"linecolor\": \"white\", \"ticks\": \"\", \"title\": {\"standoff\": 15}, \"zerolinecolor\": \"white\", \"zerolinewidth\": 2}}}},                        {\"responsive\": true}                    ).then(function(){\n",
       "                            \n",
       "var gd = document.getElementById('8a07a046-e54a-42f6-87af-fe1bfcf777dc');\n",
       "var x = new MutationObserver(function (mutations, observer) {{\n",
       "        var display = window.getComputedStyle(gd).display;\n",
       "        if (!display || display === 'none') {{\n",
       "            console.log([gd, 'removed!']);\n",
       "            Plotly.purge(gd);\n",
       "            observer.disconnect();\n",
       "        }}\n",
       "}});\n",
       "\n",
       "// Listen for the removal of the full notebook cells\n",
       "var notebookContainer = gd.closest('#notebook-container');\n",
       "if (notebookContainer) {{\n",
       "    x.observe(notebookContainer, {childList: true});\n",
       "}}\n",
       "\n",
       "// Listen for the clearing of the current output cell\n",
       "var outputEl = gd.closest('.output');\n",
       "if (outputEl) {{\n",
       "    x.observe(outputEl, {childList: true});\n",
       "}}\n",
       "\n",
       "                        })                };                });            </script>        </div>"
      ]
     },
     "metadata": {},
     "output_type": "display_data"
    }
   ],
   "source": [
    "plot_path(lat, long, origin_point, destination_point)"
   ]
  },
  {
   "cell_type": "code",
   "execution_count": null,
   "metadata": {},
   "outputs": [],
   "source": []
  }
 ],
 "metadata": {
  "kernelspec": {
   "display_name": "Python 3",
   "language": "python",
   "name": "python3"
  },
  "language_info": {
   "codemirror_mode": {
    "name": "ipython",
    "version": 3
   },
   "file_extension": ".py",
   "mimetype": "text/x-python",
   "name": "python",
   "nbconvert_exporter": "python",
   "pygments_lexer": "ipython3",
   "version": "3.7.3"
  }
 },
 "nbformat": 4,
 "nbformat_minor": 2
}
