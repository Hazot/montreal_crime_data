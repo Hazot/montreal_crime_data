{
 "cells": [
  {
   "cell_type": "code",
   "execution_count": null,
   "id": "413f7a8a",
   "metadata": {},
   "outputs": [],
   "source": [
    "import warnings\n",
    "warnings.filterwarnings('ignore')\n",
    "\n",
    "import numpy as np\n",
    "import pandas as pd\n",
    "import matplotlib.pyplot as plt\n",
    "import seaborn as sns\n",
    "import plotly.express as px\n",
    "import plotly.graph_objects as go\n",
    "from sklearn.preprocessing import StandardScaler\n",
    "from sklearn.cluster import KMeans\n",
    "from sklearn.mixture import GaussianMixture\n",
    "from sklearn.metrics import silhouette_score"
   ]
  },
  {
   "cell_type": "code",
   "execution_count": null,
   "id": "e0ef783c",
   "metadata": {},
   "outputs": [],
   "source": [
    "# Data snapshot from 3/11/2022\n",
    "# https://donnees.montreal.ca/ville-de-montreal/actes-criminels\n",
    "data = pd.read_csv(\"data/montreal_crime_data.csv\", encoding='latin1')"
   ]
  },
  {
   "cell_type": "code",
   "execution_count": null,
   "id": "be4c69ff",
   "metadata": {},
   "outputs": [],
   "source": [
    "data.head()"
   ]
  },
  {
   "cell_type": "markdown",
   "id": "719e2196",
   "metadata": {},
   "source": [
    "## Preprocessing & exploring"
   ]
  },
  {
   "cell_type": "code",
   "execution_count": null,
   "id": "f172474e",
   "metadata": {},
   "outputs": [],
   "source": [
    "data.columns = data.columns.str.lower()"
   ]
  },
  {
   "cell_type": "markdown",
   "id": "cfe7e381",
   "metadata": {},
   "source": [
    "#### Meta information of data"
   ]
  },
  {
   "cell_type": "code",
   "execution_count": null,
   "id": "eca52058",
   "metadata": {},
   "outputs": [],
   "source": [
    "print(f\"Shape of data is: {data.shape}\")"
   ]
  },
  {
   "cell_type": "code",
   "execution_count": null,
   "id": "c2053c8d",
   "metadata": {},
   "outputs": [],
   "source": [
    "pd.DataFrame(data.dtypes, columns=['Datatype']).rename_axis('Columns')"
   ]
  },
  {
   "cell_type": "markdown",
   "id": "02781502",
   "metadata": {},
   "source": [
    "## Data cleaning"
   ]
  },
  {
   "cell_type": "markdown",
   "id": "90602ec7",
   "metadata": {},
   "source": [
    "#### Converting date feature to datatime format"
   ]
  },
  {
   "cell_type": "code",
   "execution_count": null,
   "id": "0e0f9a1e",
   "metadata": {},
   "outputs": [],
   "source": [
    "data['date'] = pd.to_datetime(data['date'])"
   ]
  },
  {
   "cell_type": "code",
   "execution_count": null,
   "id": "e4c52537",
   "metadata": {},
   "outputs": [],
   "source": [
    "data['year'] = data['date'].dt.year"
   ]
  },
  {
   "cell_type": "code",
   "execution_count": null,
   "id": "0b4bcd59",
   "metadata": {},
   "outputs": [],
   "source": [
    "data['month'] = data['date'].dt.month"
   ]
  },
  {
   "cell_type": "code",
   "execution_count": null,
   "id": "1e1b6777",
   "metadata": {},
   "outputs": [],
   "source": [
    "datatypes = pd.DataFrame(data.dtypes, columns=['Datatype']).rename_axis('Columns')"
   ]
  },
  {
   "cell_type": "markdown",
   "id": "81553cd4",
   "metadata": {},
   "source": [
    "#### Checking for NaN values"
   ]
  },
  {
   "cell_type": "code",
   "execution_count": null,
   "id": "0c72ebf5",
   "metadata": {},
   "outputs": [],
   "source": [
    "pd.DataFrame(data.isnull().sum(), columns=['Nb of missing values']).rename_axis('Feature')"
   ]
  },
  {
   "cell_type": "markdown",
   "id": "8099cd92",
   "metadata": {},
   "source": [
    "### location"
   ]
  },
  {
   "cell_type": "code",
   "execution_count": null,
   "id": "eda826d4",
   "metadata": {},
   "outputs": [],
   "source": [
    "# Filter out cases without location values\n",
    "data = data.loc[(data['x'] >= 10)]\n",
    "data = data.loc[(data['y'] >= 10)]\n",
    "print(data.shape)"
   ]
  },
  {
   "cell_type": "code",
   "execution_count": null,
   "id": "cf66f565",
   "metadata": {},
   "outputs": [],
   "source": [
    "# # Filter out bad position values with montreal delimiters\n",
    "# data = data.loc[(data['longitude'] >= -74) & (data['longitude'] <= -73)]\n",
    "# data = data.loc[(data['latitude'] >= 45) & (data['longitude'] <= 46)]\n",
    "# print(data.shape)"
   ]
  },
  {
   "cell_type": "code",
   "execution_count": null,
   "id": "18d5cea0",
   "metadata": {},
   "outputs": [],
   "source": [
    "nord, sud, est, ouest = max(data['y']), min(data['y']), min(data['x']), max(data['x'])\n",
    "print(nord, sud, est, ouest)"
   ]
  },
  {
   "cell_type": "code",
   "execution_count": null,
   "id": "ab6696ee",
   "metadata": {},
   "outputs": [],
   "source": [
    "nord, sud, est, ouest = max(data['latitude']), min(data['latitude']), min(data['longitude']), max(data['longitude'])\n",
    "print(nord, sud, est, ouest)"
   ]
  },
  {
   "cell_type": "markdown",
   "id": "6ecafd11",
   "metadata": {},
   "source": [
    "### Postes de police"
   ]
  },
  {
   "cell_type": "code",
   "execution_count": null,
   "id": "84fdf92f",
   "metadata": {},
   "outputs": [],
   "source": [
    "print('Nb de postes de police:', len(np.unique(data['pdq'])))"
   ]
  },
  {
   "cell_type": "code",
   "execution_count": null,
   "id": "1a9e208d",
   "metadata": {},
   "outputs": [],
   "source": [
    "np.unique(data['pdq'], return_counts=True)"
   ]
  },
  {
   "cell_type": "markdown",
   "id": "65f48f06",
   "metadata": {},
   "source": [
    "## Visualization"
   ]
  },
  {
   "cell_type": "code",
   "execution_count": null,
   "id": "b8cfb2f1",
   "metadata": {},
   "outputs": [],
   "source": [
    "# Data plot locations\n",
    "plt.figure(figsize = (10, 6), dpi = 80)\n",
    "plt.scatter(data['x'], data['y'], s=1, marker='o')\n",
    "plt.title('Crimes in Montreal')\n",
    "plt.show"
   ]
  },
  {
   "cell_type": "code",
   "execution_count": null,
   "id": "5a3a2c67",
   "metadata": {
    "scrolled": true
   },
   "outputs": [],
   "source": [
    "year_wise_trend = data.groupby('year').count().drop(['date', 'quart', \n",
    "                                                     'longitude', 'latitude', 'x', 'y', 'pdq', 'month'], \n",
    "                                                  axis = 1).rename({'categorie':\"Case Reported\"}, axis=1)\n",
    "\n",
    "year_wise_trend.style.bar()"
   ]
  },
  {
   "cell_type": "code",
   "execution_count": null,
   "id": "8d3aef29",
   "metadata": {
    "scrolled": false
   },
   "outputs": [],
   "source": [
    "fig = px.line(year_wise_trend.iloc[:-1], \n",
    "              x = year_wise_trend.index[:-1],\n",
    "              y = 'Case Reported',\n",
    "              text = year_wise_trend.index[:-1],\n",
    "              title = \"<b>Trend of Crime from 2015 to 2021</b>\",\n",
    "              template = 'ggplot2')\n",
    "\n",
    "fig.update_traces(textposition=\"bottom right\")\n",
    "fig.show()"
   ]
  },
  {
   "cell_type": "markdown",
   "id": "6cc13282",
   "metadata": {},
   "source": [
    "### Feature selection"
   ]
  },
  {
   "cell_type": "code",
   "execution_count": null,
   "id": "f73b33f5",
   "metadata": {},
   "outputs": [],
   "source": [
    "features = ['x', 'y']\n",
    "\n",
    "X = data[features]"
   ]
  },
  {
   "cell_type": "code",
   "execution_count": null,
   "id": "52353c04",
   "metadata": {},
   "outputs": [],
   "source": [
    "means = X.mean(axis=0)"
   ]
  },
  {
   "cell_type": "code",
   "execution_count": null,
   "id": "3d0ba518",
   "metadata": {},
   "outputs": [],
   "source": [
    "X = X - means"
   ]
  },
  {
   "cell_type": "code",
   "execution_count": null,
   "id": "1d7a487f",
   "metadata": {},
   "outputs": [],
   "source": [
    "z = StandardScaler()"
   ]
  },
  {
   "cell_type": "code",
   "execution_count": null,
   "id": "b6c9dcb5",
   "metadata": {},
   "outputs": [],
   "source": [
    "z = z.fit_transform(X)"
   ]
  },
  {
   "cell_type": "code",
   "execution_count": null,
   "id": "0d4c69ca",
   "metadata": {},
   "outputs": [],
   "source": [
    "z = pd.DataFrame(z).sample(50000)"
   ]
  },
  {
   "cell_type": "code",
   "execution_count": null,
   "id": "c46ae427",
   "metadata": {},
   "outputs": [],
   "source": [
    "X = X.sample(50000)"
   ]
  },
  {
   "cell_type": "code",
   "execution_count": null,
   "id": "5d7969a5",
   "metadata": {},
   "outputs": [],
   "source": [
    "EM = GaussianMixture(n_components=3)\n",
    "EM.fit(X)\n",
    "cluster = EM.predict(X)\n",
    "print(np.unique(cluster, return_counts=True))\n",
    "# cluster_p = EM.predict_proba(X)\n",
    "# cluster_p"
   ]
  },
  {
   "cell_type": "code",
   "execution_count": null,
   "id": "b781474e",
   "metadata": {},
   "outputs": [],
   "source": [
    "from sklearnex import patch_sklearn\n",
    "patch_sklearn()"
   ]
  },
  {
   "cell_type": "code",
   "execution_count": null,
   "id": "512eaed0",
   "metadata": {},
   "outputs": [],
   "source": [
    "print('silhouette', silhouette_score(X, cluster))"
   ]
  },
  {
   "cell_type": "code",
   "execution_count": null,
   "id": "c56e0149",
   "metadata": {},
   "outputs": [],
   "source": [
    "X['cluster'] = cluster"
   ]
  },
  {
   "cell_type": "code",
   "execution_count": null,
   "id": "67e5449d",
   "metadata": {},
   "outputs": [],
   "source": [
    "X.shape"
   ]
  },
  {
   "cell_type": "code",
   "execution_count": null,
   "id": "f604f1de",
   "metadata": {},
   "outputs": [],
   "source": [
    "# Data plot locations\n",
    "plt.figure(figsize = (10, 6), dpi = 80)\n",
    "plt.scatter(X['x'], X['y'], s=1, marker='o', c=X['cluster'], cmap='viridis')\n",
    "plt.title('Crimes in Montreal')\n",
    "plt.show"
   ]
  },
  {
   "cell_type": "markdown",
   "id": "bf954d84",
   "metadata": {},
   "source": [
    "### Avoir beaucoup de scores"
   ]
  },
  {
   "cell_type": "code",
   "execution_count": null,
   "id": "b5e813c5",
   "metadata": {
    "scrolled": true
   },
   "outputs": [],
   "source": [
    "# scores = []\n",
    "# for k in range(2, 30):\n",
    "#     print(k)\n",
    "#     EM = GaussianMixture(n_components=k)\n",
    "#     EM.fit(X)\n",
    "#     cluster = EM.predict(X)\n",
    "#     scores.append(silhouette_score(X, cluster))"
   ]
  },
  {
   "cell_type": "code",
   "execution_count": null,
   "id": "5bd02306",
   "metadata": {},
   "outputs": [],
   "source": [
    "data.columns"
   ]
  },
  {
   "cell_type": "markdown",
   "id": "31e0599f",
   "metadata": {},
   "source": [
    "### Associer des poids aux crimes"
   ]
  },
  {
   "cell_type": "code",
   "execution_count": null,
   "id": "d3016c9a",
   "metadata": {},
   "outputs": [],
   "source": [
    "# https://www150.statcan.gc.ca/n1/pub/85-004-x/2009001/part-partie1-eng.htm"
   ]
  },
  {
   "cell_type": "code",
   "execution_count": null,
   "id": "bc50f38d",
   "metadata": {},
   "outputs": [],
   "source": [
    "np.unique(data['categorie'], return_counts=True)"
   ]
  },
  {
   "cell_type": "code",
   "execution_count": null,
   "id": "344d4fa1",
   "metadata": {
    "scrolled": true
   },
   "outputs": [],
   "source": [
    "data_weights = data\n",
    "data_weights = data_weights.replace({'Vol de véhicule à moteur': 2, \n",
    "                         'Vol dans / sur véhicule à moteur': 1, \n",
    "                         'Infractions entrainant la mort': 10,\n",
    "                         'Introduction': 2,\n",
    "                         'Méfait': 3,\n",
    "                         'Vols qualifiés': 4\n",
    "                         \n",
    "})"
   ]
  },
  {
   "cell_type": "code",
   "execution_count": null,
   "id": "8157dd71",
   "metadata": {},
   "outputs": [],
   "source": [
    "features = ['x', 'y', 'categorie']\n",
    "\n",
    "X = data_weights[features]"
   ]
  },
  {
   "cell_type": "code",
   "execution_count": null,
   "id": "ae6be828",
   "metadata": {},
   "outputs": [],
   "source": [
    "X"
   ]
  },
  {
   "cell_type": "code",
   "execution_count": null,
   "id": "673dbccc",
   "metadata": {},
   "outputs": [],
   "source": [
    "EM = GaussianMixture(n_components=30)\n",
    "EM.fit(X)\n",
    "cluster = EM.predict(X)\n",
    "print(np.unique(cluster, return_counts=True))\n",
    "# cluster_p = EM.predict_proba(X)\n",
    "# cluster_p"
   ]
  },
  {
   "cell_type": "code",
   "execution_count": null,
   "id": "493fbf42",
   "metadata": {},
   "outputs": [],
   "source": [
    "X['cluster'] = cluster"
   ]
  },
  {
   "cell_type": "code",
   "execution_count": null,
   "id": "c332c648",
   "metadata": {},
   "outputs": [],
   "source": [
    "# Data plot locations\n",
    "plt.figure(figsize = (10, 6), dpi = 80)\n",
    "plt.scatter(X['x'], X['y'], s=1, marker='o', c=X['cluster'], cmap='viridis')\n",
    "plt.title('Crimes in Montreal')\n",
    "plt.show"
   ]
  },
  {
   "cell_type": "code",
   "execution_count": null,
   "id": "ab2d2b06",
   "metadata": {},
   "outputs": [],
   "source": [
    "for category in np.unique(data.CATEGORIE):\n",
    "    for quart in np.unique(data.QUART):\n",
    "        cat = (data.CATEGORIE == category)\n",
    "        qrt = (data.QUART == quart)\n",
    "        pgx = (data.X > 1000)\n",
    "        plx = (data.X < 1e6)\n",
    "        pgy = (data.Y > 1000)\n",
    "        split_data = data[cat*qrt*pgx*plx*pgy]\n",
    "        #print(split_data)\n",
    "        #print(len(split_data.index))\n",
    "        \n",
    "        mindate = data.DATE.min()\n",
    "        def timetofloat(d):\n",
    "            deltas = (d - mindate)  / np.timedelta64(1,'D')\n",
    "            return deltas\n",
    "        coords = np.vstack((split_data.X, split_data.Y, timetofloat(split_data.DATE))).T\n",
    "        #coords.sort()\n",
    "        coords = np.unique([tuple(row) for row in coords], axis=0)\n",
    "        #print(coords)\n",
    "        #print(len(coords))\n",
    "        \n",
    "        ncomponents = min(100,len(coords))\n",
    "        classifier = GaussianMixture(n_components=ncomponents, covariance_type=\"full\")\n",
    "        \n",
    "        #plt.scatter(coords[:,0],y=coords[:,1])\n",
    "        #plt.show\n",
    "        #plt.clf()\n",
    "        #plt.cla()\n",
    "        #plt.close()\n",
    "        \n",
    "        classifier.fit(coords)\n",
    "        \n",
    "        minx = data[pgx*plx*pgy].X.min()\n",
    "        maxx = data[pgx*plx*pgy].X.max()\n",
    "        miny = data[pgx*plx*pgy].Y.min()\n",
    "        maxy = data[pgx*plx*pgy].Y.max()\n",
    "        maxdatef = timetofloat(data.DATE.max())\n",
    "        testdata = np.array([[ 294904, 5047548, maxdatef],\n",
    "                            [ 294904, 5047548, maxdatef],\n",
    "                            [ 290274, 5042150, maxdatef],\n",
    "                            [ 299344, 5040364, maxdatef],\n",
    "                            [ 294968, 5047651, maxdatef],\n",
    "                            [ 291553, 5035569, maxdatef]])\n",
    "        \n",
    "        #print(classifier.means_)\n",
    "\n",
    "        colors = []\n",
    "        for i in range(ncomponents):\n",
    "            colors.append(tuple(np.random.uniform(0.3, 1, size=3)))\n",
    "    \n",
    "        #dcolors = [colors[i] for i in classifier.predict(testdata)]\n",
    "        #dcolors = [colors[i] for i in classifier.predict(coords)]\n",
    "\n",
    "\n",
    "        #ax = plt.gca()\n",
    "        #plt.clf()\n",
    "        #plt.cla()\n",
    "        #plt.close()\n",
    "        #plt.scatter(testdata[:,0], testdata[:,1], c=dcolors, alpha=0.8)\n",
    "        #plt.scatter(coords[:,0], coords[:,1], c=dcolors, alpha=0.8)\n",
    "        #plt.show()\n",
    "        \n",
    "        fig = plt.figure()\n",
    "        ax = plt.axes(projection='3d')\n",
    "        \n",
    "        resolution = 50\n",
    "        plotx = np.linspace(minx, maxx, num=resolution)\n",
    "        ploty = np.linspace(miny, maxy, num=resolution)\n",
    "        \n",
    "        \n",
    "        X, Y = np.meshgrid(plotx, ploty)    #grid de points pour le plot 3D, resolution^2 points\n",
    "        T = maxdatef*np.ones(shape=X.shape) #T c'est le moment auquel on fait la prediction\n",
    "        #print(X)\n",
    "        #print(Y)\n",
    "        #print(T)\n",
    "        \n",
    "        Z = []\n",
    "        for x in plotx:\n",
    "            zprime = []\n",
    "            for y in ploty:\n",
    "                val = classifier.score_samples(np.array([[x,y,maxdatef]]))[0]\n",
    "                zprime.append(val)\n",
    "            Z.append(zprime)\n",
    "        \n",
    "        Z = np.array(Z)\n",
    "        #Z = classifier.predict_proba(np.vstack([X,Y,T]).T) #avoir la prediction pour chaque point\n",
    "        \n",
    "        ax.contour3D(X, Y, Z, 50, cmap='binary')\n",
    "        \n",
    "        plt.show()"
   ]
  },
  {
   "cell_type": "code",
   "execution_count": null,
   "id": "bf3b978b",
   "metadata": {},
   "outputs": [],
   "source": []
  }
 ],
 "metadata": {
  "kernelspec": {
   "display_name": "crime",
   "language": "python",
   "name": "crime"
  },
  "language_info": {
   "codemirror_mode": {
    "name": "ipython",
    "version": 3
   },
   "file_extension": ".py",
   "mimetype": "text/x-python",
   "name": "python",
   "nbconvert_exporter": "python",
   "pygments_lexer": "ipython3",
   "version": "3.10.4"
  }
 },
 "nbformat": 4,
 "nbformat_minor": 5
}
