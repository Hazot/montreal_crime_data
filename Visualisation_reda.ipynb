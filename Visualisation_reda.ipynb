{
 "cells": [
  {
   "cell_type": "code",
   "execution_count": 1,
   "id": "413f7a8a",
   "metadata": {},
   "outputs": [],
   "source": [
    "import warnings\n",
    "warnings.filterwarnings('ignore')\n",
    "\n",
    "import osmnx as ox\n",
    "import networkx as nx\n",
    "import geojson as gj\n",
    "import json\n",
    "import numpy as np\n",
    "import pandas as pd\n",
    "import matplotlib.pyplot as plt\n",
    "import seaborn as sns\n",
    "import plotly.express as px\n",
    "import plotly.graph_objects as go\n",
    "from shapely.geometry import Point\n",
    "from geopandas import GeoDataFrame\n",
    "from keplergl import KeplerGl\n",
    "import geopandas\n",
    "from geopandas import datasets, GeoDataFrame, read_file"
   ]
  },
  {
   "cell_type": "code",
   "execution_count": 2,
   "id": "e0ef783c",
   "metadata": {},
   "outputs": [],
   "source": [
    "# Data snapshot from 3/11/2022\n",
    "# https://donnees.montreal.ca/ville-de-montreal/actes-criminels\n",
    "data = pd.read_csv(\"data/montreal_crime_data.csv\", encoding='latin1')\n",
    "pdq = read_file(\"data/limitespdq.csv\", encoding='latin1')"
   ]
  },
  {
   "cell_type": "code",
   "execution_count": 3,
   "id": "d0f2472d",
   "metadata": {},
   "outputs": [],
   "source": [
    "data.columns = data.columns.str.lower()"
   ]
  },
  {
   "cell_type": "code",
   "execution_count": 4,
   "id": "be4c69ff",
   "metadata": {},
   "outputs": [
    {
     "data": {
      "text/html": [
       "<div>\n",
       "<style scoped>\n",
       "    .dataframe tbody tr th:only-of-type {\n",
       "        vertical-align: middle;\n",
       "    }\n",
       "\n",
       "    .dataframe tbody tr th {\n",
       "        vertical-align: top;\n",
       "    }\n",
       "\n",
       "    .dataframe thead th {\n",
       "        text-align: right;\n",
       "    }\n",
       "</style>\n",
       "<table border=\"1\" class=\"dataframe\">\n",
       "  <thead>\n",
       "    <tr style=\"text-align: right;\">\n",
       "      <th></th>\n",
       "      <th>categorie</th>\n",
       "      <th>date</th>\n",
       "      <th>quart</th>\n",
       "      <th>pdq</th>\n",
       "      <th>x</th>\n",
       "      <th>y</th>\n",
       "      <th>longitude</th>\n",
       "      <th>latitude</th>\n",
       "      <th>geometry</th>\n",
       "    </tr>\n",
       "  </thead>\n",
       "  <tbody>\n",
       "    <tr>\n",
       "      <th>0</th>\n",
       "      <td>Vol de véhicule à moteur</td>\n",
       "      <td>2018-09-13</td>\n",
       "      <td>jour</td>\n",
       "      <td>30.0</td>\n",
       "      <td>294904.159001</td>\n",
       "      <td>5.047549e+06</td>\n",
       "      <td>-73.626778</td>\n",
       "      <td>45.567780</td>\n",
       "      <td>POINT (-73.62678 45.56778)</td>\n",
       "    </tr>\n",
       "    <tr>\n",
       "      <th>1</th>\n",
       "      <td>Vol de véhicule à moteur</td>\n",
       "      <td>2018-04-30</td>\n",
       "      <td>jour</td>\n",
       "      <td>30.0</td>\n",
       "      <td>294904.159001</td>\n",
       "      <td>5.047549e+06</td>\n",
       "      <td>-73.626778</td>\n",
       "      <td>45.567780</td>\n",
       "      <td>POINT (-73.62678 45.56778)</td>\n",
       "    </tr>\n",
       "    <tr>\n",
       "      <th>2</th>\n",
       "      <td>Vol de véhicule à moteur</td>\n",
       "      <td>2018-09-01</td>\n",
       "      <td>nuit</td>\n",
       "      <td>7.0</td>\n",
       "      <td>290274.565000</td>\n",
       "      <td>5.042150e+06</td>\n",
       "      <td>-73.685928</td>\n",
       "      <td>45.519122</td>\n",
       "      <td>POINT (-73.68593 45.51912)</td>\n",
       "    </tr>\n",
       "    <tr>\n",
       "      <th>3</th>\n",
       "      <td>Méfait</td>\n",
       "      <td>2017-07-21</td>\n",
       "      <td>jour</td>\n",
       "      <td>21.0</td>\n",
       "      <td>0.000000</td>\n",
       "      <td>0.000000e+00</td>\n",
       "      <td>-76.237290</td>\n",
       "      <td>0.000000</td>\n",
       "      <td>POINT (-76.23729 0.00000)</td>\n",
       "    </tr>\n",
       "    <tr>\n",
       "      <th>4</th>\n",
       "      <td>Méfait</td>\n",
       "      <td>2017-07-29</td>\n",
       "      <td>jour</td>\n",
       "      <td>12.0</td>\n",
       "      <td>0.000000</td>\n",
       "      <td>0.000000e+00</td>\n",
       "      <td>-76.237290</td>\n",
       "      <td>0.000000</td>\n",
       "      <td>POINT (-76.23729 0.00000)</td>\n",
       "    </tr>\n",
       "    <tr>\n",
       "      <th>...</th>\n",
       "      <td>...</td>\n",
       "      <td>...</td>\n",
       "      <td>...</td>\n",
       "      <td>...</td>\n",
       "      <td>...</td>\n",
       "      <td>...</td>\n",
       "      <td>...</td>\n",
       "      <td>...</td>\n",
       "      <td>...</td>\n",
       "    </tr>\n",
       "    <tr>\n",
       "      <th>217330</th>\n",
       "      <td>Introduction</td>\n",
       "      <td>2022-02-07</td>\n",
       "      <td>nuit</td>\n",
       "      <td>16.0</td>\n",
       "      <td>299824.031000</td>\n",
       "      <td>5.036239e+06</td>\n",
       "      <td>-73.563634</td>\n",
       "      <td>45.466061</td>\n",
       "      <td>POINT (-73.56363 45.46606)</td>\n",
       "    </tr>\n",
       "    <tr>\n",
       "      <th>217331</th>\n",
       "      <td>Vol dans / sur véhicule à moteur</td>\n",
       "      <td>2022-02-07</td>\n",
       "      <td>nuit</td>\n",
       "      <td>9.0</td>\n",
       "      <td>294066.934990</td>\n",
       "      <td>5.034838e+06</td>\n",
       "      <td>-73.637226</td>\n",
       "      <td>45.453390</td>\n",
       "      <td>POINT (-73.63723 45.45339)</td>\n",
       "    </tr>\n",
       "    <tr>\n",
       "      <th>217332</th>\n",
       "      <td>Vol de véhicule à moteur</td>\n",
       "      <td>2022-02-07</td>\n",
       "      <td>nuit</td>\n",
       "      <td>46.0</td>\n",
       "      <td>299275.233995</td>\n",
       "      <td>5.053407e+06</td>\n",
       "      <td>-73.570845</td>\n",
       "      <td>45.620542</td>\n",
       "      <td>POINT (-73.57085 45.62054)</td>\n",
       "    </tr>\n",
       "    <tr>\n",
       "      <th>217333</th>\n",
       "      <td>Introduction</td>\n",
       "      <td>2022-02-07</td>\n",
       "      <td>nuit</td>\n",
       "      <td>23.0</td>\n",
       "      <td>301302.350009</td>\n",
       "      <td>5.046445e+06</td>\n",
       "      <td>-73.544801</td>\n",
       "      <td>45.557905</td>\n",
       "      <td>POINT (-73.54480 45.55791)</td>\n",
       "    </tr>\n",
       "    <tr>\n",
       "      <th>217334</th>\n",
       "      <td>Vol de véhicule à moteur</td>\n",
       "      <td>2022-02-07</td>\n",
       "      <td>jour</td>\n",
       "      <td>3.0</td>\n",
       "      <td>273329.775771</td>\n",
       "      <td>5.035652e+06</td>\n",
       "      <td>-73.902405</td>\n",
       "      <td>45.460089</td>\n",
       "      <td>POINT (-73.90240 45.46009)</td>\n",
       "    </tr>\n",
       "  </tbody>\n",
       "</table>\n",
       "<p>217335 rows × 9 columns</p>\n",
       "</div>"
      ],
      "text/plain": [
       "                               categorie        date quart   pdq  \\\n",
       "0               Vol de véhicule à moteur  2018-09-13  jour  30.0   \n",
       "1               Vol de véhicule à moteur  2018-04-30  jour  30.0   \n",
       "2               Vol de véhicule à moteur  2018-09-01  nuit   7.0   \n",
       "3                                 Méfait  2017-07-21  jour  21.0   \n",
       "4                                 Méfait  2017-07-29  jour  12.0   \n",
       "...                                  ...         ...   ...   ...   \n",
       "217330                      Introduction  2022-02-07  nuit  16.0   \n",
       "217331  Vol dans / sur véhicule à moteur  2022-02-07  nuit   9.0   \n",
       "217332          Vol de véhicule à moteur  2022-02-07  nuit  46.0   \n",
       "217333                      Introduction  2022-02-07  nuit  23.0   \n",
       "217334          Vol de véhicule à moteur  2022-02-07  jour   3.0   \n",
       "\n",
       "                    x             y  longitude   latitude  \\\n",
       "0       294904.159001  5.047549e+06 -73.626778  45.567780   \n",
       "1       294904.159001  5.047549e+06 -73.626778  45.567780   \n",
       "2       290274.565000  5.042150e+06 -73.685928  45.519122   \n",
       "3            0.000000  0.000000e+00 -76.237290   0.000000   \n",
       "4            0.000000  0.000000e+00 -76.237290   0.000000   \n",
       "...               ...           ...        ...        ...   \n",
       "217330  299824.031000  5.036239e+06 -73.563634  45.466061   \n",
       "217331  294066.934990  5.034838e+06 -73.637226  45.453390   \n",
       "217332  299275.233995  5.053407e+06 -73.570845  45.620542   \n",
       "217333  301302.350009  5.046445e+06 -73.544801  45.557905   \n",
       "217334  273329.775771  5.035652e+06 -73.902405  45.460089   \n",
       "\n",
       "                          geometry  \n",
       "0       POINT (-73.62678 45.56778)  \n",
       "1       POINT (-73.62678 45.56778)  \n",
       "2       POINT (-73.68593 45.51912)  \n",
       "3        POINT (-76.23729 0.00000)  \n",
       "4        POINT (-76.23729 0.00000)  \n",
       "...                            ...  \n",
       "217330  POINT (-73.56363 45.46606)  \n",
       "217331  POINT (-73.63723 45.45339)  \n",
       "217332  POINT (-73.57085 45.62054)  \n",
       "217333  POINT (-73.54480 45.55791)  \n",
       "217334  POINT (-73.90240 45.46009)  \n",
       "\n",
       "[217335 rows x 9 columns]"
      ]
     },
     "execution_count": 4,
     "metadata": {},
     "output_type": "execute_result"
    }
   ],
   "source": [
    "gdf = geopandas.GeoDataFrame(\n",
    "    data, geometry=geopandas.points_from_xy(data.longitude, data.latitude))\n",
    "gdf"
   ]
  },
  {
   "cell_type": "code",
   "execution_count": 5,
   "id": "4b66c0a0",
   "metadata": {},
   "outputs": [
    {
     "data": {
      "text/html": [
       "<div>\n",
       "<style scoped>\n",
       "    .dataframe tbody tr th:only-of-type {\n",
       "        vertical-align: middle;\n",
       "    }\n",
       "\n",
       "    .dataframe tbody tr th {\n",
       "        vertical-align: top;\n",
       "    }\n",
       "\n",
       "    .dataframe thead th {\n",
       "        text-align: right;\n",
       "    }\n",
       "</style>\n",
       "<table border=\"1\" class=\"dataframe\">\n",
       "  <thead>\n",
       "    <tr style=\"text-align: right;\">\n",
       "      <th></th>\n",
       "      <th>PDQ</th>\n",
       "      <th>NOM_PDQ</th>\n",
       "      <th>WKT</th>\n",
       "      <th>geometry</th>\n",
       "    </tr>\n",
       "  </thead>\n",
       "  <tbody>\n",
       "    <tr>\n",
       "      <th>0</th>\n",
       "      <td>1</td>\n",
       "      <td>PDQ-1</td>\n",
       "      <td>MULTIPOLYGON (((-73.8404999999329 45.456900000...</td>\n",
       "      <td>MULTIPOLYGON (((-73.84050 45.45690, -73.84220 ...</td>\n",
       "    </tr>\n",
       "    <tr>\n",
       "      <th>1</th>\n",
       "      <td>3</td>\n",
       "      <td>PDQ-3</td>\n",
       "      <td>MULTIPOLYGON (((-73.9396999999881 45.470100000...</td>\n",
       "      <td>None</td>\n",
       "    </tr>\n",
       "    <tr>\n",
       "      <th>2</th>\n",
       "      <td>4</td>\n",
       "      <td>PDQ-4</td>\n",
       "      <td>MULTIPOLYGON (((-73.8158999998122 45.502599999...</td>\n",
       "      <td>MULTIPOLYGON (((-73.81590 45.50260, -73.81590 ...</td>\n",
       "    </tr>\n",
       "    <tr>\n",
       "      <th>3</th>\n",
       "      <td>5</td>\n",
       "      <td>PDQ-5</td>\n",
       "      <td>MULTIPOLYGON (((-73.7227999996394 45.432000000...</td>\n",
       "      <td>MULTIPOLYGON (((-73.72280 45.43200, -73.72270 ...</td>\n",
       "    </tr>\n",
       "    <tr>\n",
       "      <th>4</th>\n",
       "      <td>7</td>\n",
       "      <td>PDQ-7</td>\n",
       "      <td>MULTIPOLYGON (((-73.6723999995738 45.532500000...</td>\n",
       "      <td>MULTIPOLYGON (((-73.67240 45.53250, -73.67150 ...</td>\n",
       "    </tr>\n",
       "  </tbody>\n",
       "</table>\n",
       "</div>"
      ],
      "text/plain": [
       "  PDQ NOM_PDQ                                                WKT  \\\n",
       "0   1   PDQ-1  MULTIPOLYGON (((-73.8404999999329 45.456900000...   \n",
       "1   3   PDQ-3  MULTIPOLYGON (((-73.9396999999881 45.470100000...   \n",
       "2   4   PDQ-4  MULTIPOLYGON (((-73.8158999998122 45.502599999...   \n",
       "3   5   PDQ-5  MULTIPOLYGON (((-73.7227999996394 45.432000000...   \n",
       "4   7   PDQ-7  MULTIPOLYGON (((-73.6723999995738 45.532500000...   \n",
       "\n",
       "                                            geometry  \n",
       "0  MULTIPOLYGON (((-73.84050 45.45690, -73.84220 ...  \n",
       "1                                               None  \n",
       "2  MULTIPOLYGON (((-73.81590 45.50260, -73.81590 ...  \n",
       "3  MULTIPOLYGON (((-73.72280 45.43200, -73.72270 ...  \n",
       "4  MULTIPOLYGON (((-73.67240 45.53250, -73.67150 ...  "
      ]
     },
     "execution_count": 5,
     "metadata": {},
     "output_type": "execute_result"
    }
   ],
   "source": [
    "pdq.head()"
   ]
  },
  {
   "cell_type": "code",
   "execution_count": 6,
   "id": "a77c5b75",
   "metadata": {},
   "outputs": [],
   "source": [
    "gdf.crs = pdq.crs"
   ]
  },
  {
   "cell_type": "code",
   "execution_count": 13,
   "id": "72f3ac24",
   "metadata": {},
   "outputs": [],
   "source": [
    "join_left_df = gdf.sjoin(pdq, how=\"left\")"
   ]
  },
  {
   "cell_type": "markdown",
   "id": "719e2196",
   "metadata": {},
   "source": [
    "## Preprocessing & exploring"
   ]
  },
  {
   "cell_type": "code",
   "execution_count": 14,
   "id": "5b167f0b",
   "metadata": {},
   "outputs": [],
   "source": [
    "data = join_left_df.dropna()"
   ]
  },
  {
   "cell_type": "markdown",
   "id": "cfe7e381",
   "metadata": {},
   "source": [
    "#### Meta information of data"
   ]
  },
  {
   "cell_type": "code",
   "execution_count": 15,
   "id": "eca52058",
   "metadata": {},
   "outputs": [
    {
     "name": "stdout",
     "output_type": "stream",
     "text": [
      "Shape of data is: (176781, 13)\n"
     ]
    }
   ],
   "source": [
    "print(f\"Shape of data is: {data.shape}\")"
   ]
  },
  {
   "cell_type": "code",
   "execution_count": 17,
   "id": "c2053c8d",
   "metadata": {},
   "outputs": [
    {
     "name": "stdout",
     "output_type": "stream",
     "text": [
      "ok\n"
     ]
    }
   ],
   "source": [
    "pd.DataFrame(data.dtypes, columns=['Datatype']).rename_axis('Columns')\n",
    "print('ok')"
   ]
  },
  {
   "cell_type": "markdown",
   "id": "02781502",
   "metadata": {},
   "source": [
    "## Data cleaning"
   ]
  },
  {
   "cell_type": "code",
   "execution_count": 18,
   "id": "4b8d0b32",
   "metadata": {
    "scrolled": false
   },
   "outputs": [],
   "source": [
    "coordinates = [Point(xy) for xy in zip(data[\"longitude\"], data[\"latitude\"])]\n",
    "crs = {'init': 'epsg:4326'}\n",
    "geo_df = GeoDataFrame(data, crs=crs, geometry=coordinates)"
   ]
  },
  {
   "cell_type": "code",
   "execution_count": 19,
   "id": "47357519",
   "metadata": {},
   "outputs": [],
   "source": [
    "to_drop = ['longitude', 'latitude']\n",
    "data.drop(to_drop, inplace=True, axis=1)"
   ]
  },
  {
   "cell_type": "code",
   "execution_count": 20,
   "id": "0e0f9a1e",
   "metadata": {},
   "outputs": [],
   "source": [
    "data['date'] = pd.to_datetime(data['date'])"
   ]
  },
  {
   "cell_type": "code",
   "execution_count": 21,
   "id": "ec1bac3e",
   "metadata": {},
   "outputs": [],
   "source": [
    "data['date'] = data['date'].apply(lambda x: pd.Timestamp(x).strftime('%Y-%m-%d'))"
   ]
  },
  {
   "cell_type": "code",
   "execution_count": 22,
   "id": "c697f510",
   "metadata": {},
   "outputs": [],
   "source": [
    "data['date'] = np.where(data['quart']=='jour', data['date'] + ' 11:00:00', data['date'])\n",
    "data['date'] = np.where(data['quart']=='soir', data['date'] + ' 19:00:00', data['date'])\n",
    "data['date'] = np.where(data['quart']=='nuit', data['date'] + ' 23:59:59', data['date'])"
   ]
  },
  {
   "cell_type": "code",
   "execution_count": 23,
   "id": "cc6d3d8b",
   "metadata": {},
   "outputs": [],
   "source": [
    "data['date'] = pd.to_datetime(data['date'])"
   ]
  },
  {
   "cell_type": "code",
   "execution_count": 24,
   "id": "1e1b6777",
   "metadata": {},
   "outputs": [
    {
     "data": {
      "text/html": [
       "<div>\n",
       "<style scoped>\n",
       "    .dataframe tbody tr th:only-of-type {\n",
       "        vertical-align: middle;\n",
       "    }\n",
       "\n",
       "    .dataframe tbody tr th {\n",
       "        vertical-align: top;\n",
       "    }\n",
       "\n",
       "    .dataframe thead th {\n",
       "        text-align: right;\n",
       "    }\n",
       "</style>\n",
       "<table border=\"1\" class=\"dataframe\">\n",
       "  <thead>\n",
       "    <tr style=\"text-align: right;\">\n",
       "      <th></th>\n",
       "      <th>Datatype</th>\n",
       "    </tr>\n",
       "    <tr>\n",
       "      <th>Columns</th>\n",
       "      <th></th>\n",
       "    </tr>\n",
       "  </thead>\n",
       "  <tbody>\n",
       "    <tr>\n",
       "      <th>categorie</th>\n",
       "      <td>object</td>\n",
       "    </tr>\n",
       "    <tr>\n",
       "      <th>date</th>\n",
       "      <td>datetime64[ns]</td>\n",
       "    </tr>\n",
       "    <tr>\n",
       "      <th>quart</th>\n",
       "      <td>object</td>\n",
       "    </tr>\n",
       "    <tr>\n",
       "      <th>pdq</th>\n",
       "      <td>float64</td>\n",
       "    </tr>\n",
       "    <tr>\n",
       "      <th>x</th>\n",
       "      <td>float64</td>\n",
       "    </tr>\n",
       "    <tr>\n",
       "      <th>y</th>\n",
       "      <td>float64</td>\n",
       "    </tr>\n",
       "    <tr>\n",
       "      <th>geometry</th>\n",
       "      <td>geometry</td>\n",
       "    </tr>\n",
       "    <tr>\n",
       "      <th>index_right</th>\n",
       "      <td>float64</td>\n",
       "    </tr>\n",
       "    <tr>\n",
       "      <th>PDQ</th>\n",
       "      <td>object</td>\n",
       "    </tr>\n",
       "    <tr>\n",
       "      <th>NOM_PDQ</th>\n",
       "      <td>object</td>\n",
       "    </tr>\n",
       "    <tr>\n",
       "      <th>WKT</th>\n",
       "      <td>object</td>\n",
       "    </tr>\n",
       "  </tbody>\n",
       "</table>\n",
       "</div>"
      ],
      "text/plain": [
       "                   Datatype\n",
       "Columns                    \n",
       "categorie            object\n",
       "date         datetime64[ns]\n",
       "quart                object\n",
       "pdq                 float64\n",
       "x                   float64\n",
       "y                   float64\n",
       "geometry           geometry\n",
       "index_right         float64\n",
       "PDQ                  object\n",
       "NOM_PDQ              object\n",
       "WKT                  object"
      ]
     },
     "execution_count": 24,
     "metadata": {},
     "output_type": "execute_result"
    }
   ],
   "source": [
    "datatypes = pd.DataFrame(data.dtypes, columns=['Datatype']).rename_axis('Columns')\n",
    "datatypes"
   ]
  },
  {
   "cell_type": "code",
   "execution_count": 25,
   "id": "070e29cb",
   "metadata": {},
   "outputs": [
    {
     "data": {
      "text/plain": [
       "'Saturday'"
      ]
     },
     "execution_count": 25,
     "metadata": {},
     "output_type": "execute_result"
    }
   ],
   "source": [
    "from datetime import date\n",
    "import calendar\n",
    "day_of_week = []\n",
    "for date in data['date']:\n",
    "    day_of_week.append(calendar.day_name[date.weekday()])\n",
    "data['day_of_week'] = day_of_week\n",
    "#data['day_of_week'].drop_duplicates()\n",
    "data['day_of_week'][2]"
   ]
  },
  {
   "cell_type": "code",
   "execution_count": 26,
   "id": "d06438b1",
   "metadata": {},
   "outputs": [],
   "source": [
    "def add_is_weekend(df):\n",
    "    res = []\n",
    "    for day in df['day_of_week']:\n",
    "        if day in ['Saturday', 'Sunday']: res.append(True)\n",
    "        else: res.append(False)\n",
    "    df['is_weekend'] = res"
   ]
  },
  {
   "cell_type": "code",
   "execution_count": 27,
   "id": "1a8bd934",
   "metadata": {},
   "outputs": [
    {
     "data": {
      "text/html": [
       "<div>\n",
       "<style scoped>\n",
       "    .dataframe tbody tr th:only-of-type {\n",
       "        vertical-align: middle;\n",
       "    }\n",
       "\n",
       "    .dataframe tbody tr th {\n",
       "        vertical-align: top;\n",
       "    }\n",
       "\n",
       "    .dataframe thead th {\n",
       "        text-align: right;\n",
       "    }\n",
       "</style>\n",
       "<table border=\"1\" class=\"dataframe\">\n",
       "  <thead>\n",
       "    <tr style=\"text-align: right;\">\n",
       "      <th></th>\n",
       "      <th>categorie</th>\n",
       "      <th>date</th>\n",
       "      <th>quart</th>\n",
       "      <th>pdq</th>\n",
       "      <th>x</th>\n",
       "      <th>y</th>\n",
       "      <th>geometry</th>\n",
       "      <th>index_right</th>\n",
       "      <th>PDQ</th>\n",
       "      <th>NOM_PDQ</th>\n",
       "      <th>WKT</th>\n",
       "      <th>day_of_week</th>\n",
       "      <th>is_weekend</th>\n",
       "    </tr>\n",
       "  </thead>\n",
       "  <tbody>\n",
       "    <tr>\n",
       "      <th>0</th>\n",
       "      <td>Vol de véhicule à moteur</td>\n",
       "      <td>2018-09-13 11:00:00</td>\n",
       "      <td>jour</td>\n",
       "      <td>30.0</td>\n",
       "      <td>294904.159001</td>\n",
       "      <td>5.047549e+06</td>\n",
       "      <td>POINT (-73.62678 45.56778)</td>\n",
       "      <td>18.0</td>\n",
       "      <td>30</td>\n",
       "      <td>PDQ-30</td>\n",
       "      <td>MULTIPOLYGON (((-73.6140999998897 45.579800000...</td>\n",
       "      <td>Thursday</td>\n",
       "      <td>False</td>\n",
       "    </tr>\n",
       "    <tr>\n",
       "      <th>1</th>\n",
       "      <td>Vol de véhicule à moteur</td>\n",
       "      <td>2018-04-30 11:00:00</td>\n",
       "      <td>jour</td>\n",
       "      <td>30.0</td>\n",
       "      <td>294904.159001</td>\n",
       "      <td>5.047549e+06</td>\n",
       "      <td>POINT (-73.62678 45.56778)</td>\n",
       "      <td>18.0</td>\n",
       "      <td>30</td>\n",
       "      <td>PDQ-30</td>\n",
       "      <td>MULTIPOLYGON (((-73.6140999998897 45.579800000...</td>\n",
       "      <td>Monday</td>\n",
       "      <td>False</td>\n",
       "    </tr>\n",
       "    <tr>\n",
       "      <th>2</th>\n",
       "      <td>Vol de véhicule à moteur</td>\n",
       "      <td>2018-09-01 23:59:59</td>\n",
       "      <td>nuit</td>\n",
       "      <td>7.0</td>\n",
       "      <td>290274.565000</td>\n",
       "      <td>5.042150e+06</td>\n",
       "      <td>POINT (-73.68593 45.51912)</td>\n",
       "      <td>4.0</td>\n",
       "      <td>7</td>\n",
       "      <td>PDQ-7</td>\n",
       "      <td>MULTIPOLYGON (((-73.6723999995738 45.532500000...</td>\n",
       "      <td>Saturday</td>\n",
       "      <td>True</td>\n",
       "    </tr>\n",
       "    <tr>\n",
       "      <th>6</th>\n",
       "      <td>Méfait</td>\n",
       "      <td>2017-07-30 11:00:00</td>\n",
       "      <td>jour</td>\n",
       "      <td>38.0</td>\n",
       "      <td>297654.715002</td>\n",
       "      <td>5.041877e+06</td>\n",
       "      <td>POINT (-73.59146 45.51678)</td>\n",
       "      <td>22.0</td>\n",
       "      <td>38</td>\n",
       "      <td>PDQ-38</td>\n",
       "      <td>MULTIPOLYGON (((-73.5741999996826 45.541400000...</td>\n",
       "      <td>Sunday</td>\n",
       "      <td>True</td>\n",
       "    </tr>\n",
       "    <tr>\n",
       "      <th>8</th>\n",
       "      <td>Vol dans / sur véhicule à moteur</td>\n",
       "      <td>2017-08-01 11:00:00</td>\n",
       "      <td>jour</td>\n",
       "      <td>39.0</td>\n",
       "      <td>294259.780993</td>\n",
       "      <td>5.051450e+06</td>\n",
       "      <td>POINT (-73.63512 45.60287)</td>\n",
       "      <td>23.0</td>\n",
       "      <td>39</td>\n",
       "      <td>PDQ-39</td>\n",
       "      <td>MULTIPOLYGON (((-73.6032999996096 45.610899999...</td>\n",
       "      <td>Tuesday</td>\n",
       "      <td>False</td>\n",
       "    </tr>\n",
       "  </tbody>\n",
       "</table>\n",
       "</div>"
      ],
      "text/plain": [
       "                          categorie                date quart   pdq  \\\n",
       "0          Vol de véhicule à moteur 2018-09-13 11:00:00  jour  30.0   \n",
       "1          Vol de véhicule à moteur 2018-04-30 11:00:00  jour  30.0   \n",
       "2          Vol de véhicule à moteur 2018-09-01 23:59:59  nuit   7.0   \n",
       "6                            Méfait 2017-07-30 11:00:00  jour  38.0   \n",
       "8  Vol dans / sur véhicule à moteur 2017-08-01 11:00:00  jour  39.0   \n",
       "\n",
       "               x             y                    geometry  index_right PDQ  \\\n",
       "0  294904.159001  5.047549e+06  POINT (-73.62678 45.56778)         18.0  30   \n",
       "1  294904.159001  5.047549e+06  POINT (-73.62678 45.56778)         18.0  30   \n",
       "2  290274.565000  5.042150e+06  POINT (-73.68593 45.51912)          4.0   7   \n",
       "6  297654.715002  5.041877e+06  POINT (-73.59146 45.51678)         22.0  38   \n",
       "8  294259.780993  5.051450e+06  POINT (-73.63512 45.60287)         23.0  39   \n",
       "\n",
       "  NOM_PDQ                                                WKT day_of_week  \\\n",
       "0  PDQ-30  MULTIPOLYGON (((-73.6140999998897 45.579800000...    Thursday   \n",
       "1  PDQ-30  MULTIPOLYGON (((-73.6140999998897 45.579800000...      Monday   \n",
       "2   PDQ-7  MULTIPOLYGON (((-73.6723999995738 45.532500000...    Saturday   \n",
       "6  PDQ-38  MULTIPOLYGON (((-73.5741999996826 45.541400000...      Sunday   \n",
       "8  PDQ-39  MULTIPOLYGON (((-73.6032999996096 45.610899999...     Tuesday   \n",
       "\n",
       "   is_weekend  \n",
       "0       False  \n",
       "1       False  \n",
       "2        True  \n",
       "6        True  \n",
       "8       False  "
      ]
     },
     "execution_count": 27,
     "metadata": {},
     "output_type": "execute_result"
    }
   ],
   "source": [
    "add_is_weekend(data)\n",
    "data.head()"
   ]
  },
  {
   "cell_type": "markdown",
   "id": "81553cd4",
   "metadata": {},
   "source": [
    "#### Checking for NaN values"
   ]
  },
  {
   "cell_type": "code",
   "execution_count": 31,
   "id": "1a9e208d",
   "metadata": {},
   "outputs": [
    {
     "data": {
      "text/html": [
       "<div>\n",
       "<style scoped>\n",
       "    .dataframe tbody tr th:only-of-type {\n",
       "        vertical-align: middle;\n",
       "    }\n",
       "\n",
       "    .dataframe tbody tr th {\n",
       "        vertical-align: top;\n",
       "    }\n",
       "\n",
       "    .dataframe thead th {\n",
       "        text-align: right;\n",
       "    }\n",
       "</style>\n",
       "<table border=\"1\" class=\"dataframe\">\n",
       "  <thead>\n",
       "    <tr style=\"text-align: right;\">\n",
       "      <th></th>\n",
       "      <th>Nb of missing values</th>\n",
       "    </tr>\n",
       "    <tr>\n",
       "      <th>Feature</th>\n",
       "      <th></th>\n",
       "    </tr>\n",
       "  </thead>\n",
       "  <tbody>\n",
       "    <tr>\n",
       "      <th>categorie</th>\n",
       "      <td>0</td>\n",
       "    </tr>\n",
       "    <tr>\n",
       "      <th>date</th>\n",
       "      <td>0</td>\n",
       "    </tr>\n",
       "    <tr>\n",
       "      <th>quart</th>\n",
       "      <td>0</td>\n",
       "    </tr>\n",
       "    <tr>\n",
       "      <th>pdq</th>\n",
       "      <td>0</td>\n",
       "    </tr>\n",
       "    <tr>\n",
       "      <th>x</th>\n",
       "      <td>0</td>\n",
       "    </tr>\n",
       "    <tr>\n",
       "      <th>y</th>\n",
       "      <td>0</td>\n",
       "    </tr>\n",
       "    <tr>\n",
       "      <th>geometry</th>\n",
       "      <td>0</td>\n",
       "    </tr>\n",
       "    <tr>\n",
       "      <th>index_right</th>\n",
       "      <td>0</td>\n",
       "    </tr>\n",
       "    <tr>\n",
       "      <th>PDQ</th>\n",
       "      <td>0</td>\n",
       "    </tr>\n",
       "    <tr>\n",
       "      <th>NOM_PDQ</th>\n",
       "      <td>0</td>\n",
       "    </tr>\n",
       "    <tr>\n",
       "      <th>WKT</th>\n",
       "      <td>0</td>\n",
       "    </tr>\n",
       "    <tr>\n",
       "      <th>day_of_week</th>\n",
       "      <td>0</td>\n",
       "    </tr>\n",
       "    <tr>\n",
       "      <th>is_weekend</th>\n",
       "      <td>0</td>\n",
       "    </tr>\n",
       "  </tbody>\n",
       "</table>\n",
       "</div>"
      ],
      "text/plain": [
       "             Nb of missing values\n",
       "Feature                          \n",
       "categorie                       0\n",
       "date                            0\n",
       "quart                           0\n",
       "pdq                             0\n",
       "x                               0\n",
       "y                               0\n",
       "geometry                        0\n",
       "index_right                     0\n",
       "PDQ                             0\n",
       "NOM_PDQ                         0\n",
       "WKT                             0\n",
       "day_of_week                     0\n",
       "is_weekend                      0"
      ]
     },
     "execution_count": 31,
     "metadata": {},
     "output_type": "execute_result"
    }
   ],
   "source": [
    "pd.DataFrame(data.isnull().sum(), columns=['Nb of missing values']).rename_axis('Feature')"
   ]
  },
  {
   "cell_type": "markdown",
   "id": "a04202a4",
   "metadata": {},
   "source": [
    "## Visualization"
   ]
  },
  {
   "cell_type": "code",
   "execution_count": 29,
   "id": "e0a7308d",
   "metadata": {},
   "outputs": [
    {
     "data": {
      "text/plain": [
       "<AxesSubplot:xlabel='day_of_week', ylabel='count'>"
      ]
     },
     "execution_count": 29,
     "metadata": {},
     "output_type": "execute_result"
    },
    {
     "data": {
      "image/png": "[encoded data removed]",
      "text/plain": [
       "<Figure size 1080x576 with 1 Axes>"
      ]
     },
     "metadata": {},
     "output_type": "display_data"
    }
   ],
   "source": [
    "from pandas.api.types import CategoricalDtype\n",
    "cats = [ 'Monday', 'Tuesday', 'Wednesday', 'Thursday', 'Friday', 'Saturday', 'Sunday']\n",
    "cat_type = CategoricalDtype(categories=cats, ordered=True)\n",
    "data['day_of_week'] = data['day_of_week'].astype(cat_type)\n",
    "sns.set(rc = {'figure.figsize':(15,8)})\n",
    "data_introd = data[data['categorie'] == 'Introduction']\n",
    "sns.countplot(x=\"day_of_week\", data=data_introd)"
   ]
  },
  {
   "cell_type": "code",
   "execution_count": 30,
   "id": "3cc48c9b",
   "metadata": {},
   "outputs": [
    {
     "data": {
      "text/plain": [
       "<AxesSubplot:xlabel='day_of_week', ylabel='count'>"
      ]
     },
     "execution_count": 30,
     "metadata": {},
     "output_type": "execute_result"
    },
    {
     "data": {
      "image/png": "[encoded data removed]",
      "text/plain": [
       "<Figure size 1080x576 with 1 Axes>"
      ]
     },
     "metadata": {},
     "output_type": "display_data"
    }
   ],
   "source": [
    "sns.set(rc = {'figure.figsize':(15,8)})\n",
    "sns.countplot(x=\"day_of_week\", hue=\"categorie\", data=data)"
   ]
  },
  {
   "cell_type": "code",
   "execution_count": null,
   "id": "e01ea31f",
   "metadata": {},
   "outputs": [],
   "source": [
    "from shapely.geometry import Point, mapping, shape\n",
    "for coord in data['geometry']:\n",
    "    res = []\n",
    "    mapping(coord)\n",
    "    #{'type': 'Point', 'coordinates': (3.0, 4.0)}\n",
    "    # and the reverse\n",
    "    shape(mapping(coord))\n",
    "    res.append(coord)\n",
    "print(res)\n",
    "res = pd.DataFrame(res)"
   ]
  },
  {
   "cell_type": "code",
   "execution_count": null,
   "id": "95e9e15d",
   "metadata": {},
   "outputs": [],
   "source": [
    "from keplergl import KeplerGl\n",
    "map1 = KeplerGl(height=500)\n",
    "map1\n",
    "map1.add_data(data=data, name='Montreal\\'s crime plot')"
   ]
  },
  {
   "cell_type": "code",
   "execution_count": null,
   "id": "6bbad185",
   "metadata": {},
   "outputs": [],
   "source": [
    "map1.save_to_html(file_name='mtl_crime-customize.html')"
   ]
  },
  {
   "cell_type": "code",
   "execution_count": null,
   "id": "2f3b531d",
   "metadata": {},
   "outputs": [],
   "source": [
    "state = ox.geocode_to_gdf('Quebec, CA')\n",
    "ax = ox.project_gdf(state).plot(fc='gray', ec='none')\n",
    "_ = ax.axis('off')"
   ]
  },
  {
   "cell_type": "code",
   "execution_count": null,
   "id": "b3eb3043",
   "metadata": {},
   "outputs": [],
   "source": [
    "# Defining the map boundaries \n",
    "north, east, south, west = 45.6923, -73.3736, 45.3874, -73.9730  \n",
    "# Downloading the map as a graph object \n",
    "G = ox.graph_from_bbox(north, south, east, west, network_type = 'drive')  \n",
    "# Plotting the map graph \n",
    "ox.plot_graph(G)"
   ]
  },
  {
   "cell_type": "code",
   "execution_count": null,
   "id": "f6246145",
   "metadata": {},
   "outputs": [],
   "source": [
    "origin_point = (45.5173538,-73.58212888)\n",
    "destination_point = (45.539385081961676,-73.54099988937377)\n",
    "# get the nearest nodes to the locations \n",
    "origin_node = ox.get_nearest_node(G, origin_point) \n",
    "destination_node = ox.get_nearest_node(G, destination_point)\n",
    "# Finding the optimal path \n",
    "route = nx.shortest_path(G, origin_node, destination_node, weight = 'length')\n",
    "print(route)"
   ]
  },
  {
   "cell_type": "code",
   "execution_count": null,
   "id": "b387aada",
   "metadata": {},
   "outputs": [],
   "source": [
    "#store long, lat\n",
    "long = [] \n",
    "lat = []  \n",
    "for i in route:\n",
    "     point = G.nodes[i]\n",
    "     long.append(point['x'])\n",
    "     lat.append(point['y'])"
   ]
  },
  {
   "cell_type": "code",
   "execution_count": null,
   "id": "463912df",
   "metadata": {},
   "outputs": [],
   "source": [
    "#store long, lat\n",
    "\"\"\"\"string = \"\"{\n",
    "  \"type\": \"FeatureCollection\",\n",
    "  \"features\": [\n",
    "    {\n",
    "      \"type\": \"Feature\",\n",
    "      \"properties\": {\n",
    "        \"vendor\":  \"A\"\n",
    "      },\n",
    "      \"geometry\": {\n",
    "        \"type\": \"LineString\",\n",
    "        \"coordinates\": [\n",
    "          [-74.20986, 40.81773, 0],\n",
    "          [-74.20987, 40.81765, 0],\n",
    "          [-74.20998, 40.81746, 0]\n",
    "        ]\n",
    "      }\n",
    "    }\n",
    "  ]\n",
    "}\"\"\"\n",
    "first_string = \"{\\\"type\\\": \\\"FeatureCollection\\\",\\\"features\\\": [{\\\"type\\\": \\\"Feature\\\",\\\"properties\\\": {\\\"vendor\\\":  \\\"A\\\"},\\\"geometry\\\": {\\\"type\\\": \\\"LineString\\\",\\\"coordinates\\\": [ \"\n",
    "coordinates = \"\"\n",
    "long = [] \n",
    "lat = []  \n",
    "for i in route: \n",
    "    point = G.nodes[i]\n",
    "    print(point)\n",
    "    long.append(point['x'])\n",
    "    lat.append(point['y'])\n",
    "    long_lat = \"[\" + str(point['x']) + \",\" + str(point['y']) + \"],\\n\"\n",
    "    coordinates += long_lat\n",
    "final_string = \"]}}]}\"\n",
    "string = first_string + coordinates + final_string\n",
    "print(string)\n",
    "print(len(route))\n",
    "file2write=open(\"pathh\",'w')\n",
    "file2write.write(string)\n",
    "file2write.close()"
   ]
  },
  {
   "cell_type": "code",
   "execution_count": null,
   "id": "09cecd71",
   "metadata": {},
   "outputs": [],
   "source": [
    "def plot_path(lat, long, origin_point, destination_point):\n",
    "  \n",
    "    # adding the lines joining the nodes\n",
    "    fig = go.Figure(go.Scattermapbox(\n",
    "        name = \"Path\",\n",
    "        mode = \"lines\",\n",
    "        lon = long,\n",
    "        lat = lat,\n",
    "        marker = {'size': 10},\n",
    "        line = dict(width = 4.5, color = 'purple')))\n",
    "    # adding source marker\n",
    "    fig.add_trace(go.Scattermapbox(\n",
    "        name = \"Source\",\n",
    "        mode = \"markers\",\n",
    "        lon = [origin_point[1]],\n",
    "        lat = [origin_point[0]],\n",
    "        marker = {'size': 12, 'color':\"red\"}))\n",
    "     \n",
    "    # adding destination marker\n",
    "    fig.add_trace(go.Scattermapbox(\n",
    "        name = \"Destination\",\n",
    "        mode = \"markers\",\n",
    "        lon = [destination_point[1]],\n",
    "        lat = [destination_point[0]],\n",
    "        marker = {'size': 12, 'color':'green'}))\n",
    "    \n",
    "    # getting center for plots:\n",
    "    lat_center = np.mean(lat)\n",
    "    long_center = np.mean(long)\n",
    "    # defining the layout using mapbox_style\n",
    "    fig.update_layout(mapbox_style=\"stamen-terrain\",\n",
    "        mapbox_center_lat = 30, mapbox_center_lon=-80)\n",
    "    fig.update_layout(margin={\"r\":0,\"t\":0,\"l\":0,\"b\":0},\n",
    "                      mapbox = {\n",
    "                          'center': {'lat': lat_center, \n",
    "                          'lon': long_center},\n",
    "                          'zoom': 13})\n",
    "    fig.show()"
   ]
  },
  {
   "cell_type": "code",
   "execution_count": null,
   "id": "c424379f",
   "metadata": {},
   "outputs": [],
   "source": [
    "plot_path(lat, long, origin_point, destination_point)"
   ]
  },
  {
   "cell_type": "code",
   "execution_count": null,
   "id": "b1d1cbe1",
   "metadata": {},
   "outputs": [],
   "source": []
  }
 ],
 "metadata": {
  "kernelspec": {
   "display_name": "Python 3 (ipykernel)",
   "language": "python",
   "name": "python3"
  },
  "language_info": {
   "codemirror_mode": {
    "name": "ipython",
    "version": 3
   },
   "file_extension": ".py",
   "mimetype": "text/x-python",
   "name": "python",
   "nbconvert_exporter": "python",
   "pygments_lexer": "ipython3",
   "version": "3.10.4"
  }
 },
 "nbformat": 4,
 "nbformat_minor": 5
}
